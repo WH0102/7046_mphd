{
 "cells": [
  {
   "attachments": {},
   "cell_type": "markdown",
   "id": "c5e7509e-8e57-4d7a-b0ea-d058dce4fc6f",
   "metadata": {},
   "source": [
    "# MQB7046 MODELLING PUBLIC HEALTH DATA - Linear regression\n",
    "\n",
    "##### Prepared by Claire Choo (for April's fool, 1/4/2024)\r\n"
   ]
  },
  {
   "cell_type": "markdown",
   "id": "75de0cd4-9e76-4afa-9878-23104ab44aaf",
   "metadata": {},
   "source": [
    "Multiple linear regression is a statistical technique used to model the relationship between multiple independent variables (predictors) and a single dependent variable. It extends the concept of simple linear regression, where there is only one independent variable.\n",
    "\n",
    "It is important to ensure that the assumptions of multiple linear regression, such as linearity, independence of errors, constant variance (homoscedasticity), and normality of residuals, are met for the validity of the model.\n",
    "\n",
    "Steps involved in conducting multiple linear regression:\n",
    "1) Import Libraries\n",
    "2) Prepare the data\n",
    "3) Add Constant (Intercept): Add a constant term to the independent variables\n",
    "4) Fit the Model: \n",
    "Use the OLS (Ordinary Least Squares) method\n",
    "5) View the summary of the regression results, which includes coefficients, standard errors, t-values, p-values, R-squared, and other statistics\n",
    "6) \n",
    "Interpret the result:  coefficients (slopes) of the independent variables, their significance (p-values), and the overall goodness of fit (R-squared\n",
    "7) Assess Assumptions:  use diagnostic plots and statistical tests provided by Statsmodel.. "
   ]
  },
  {
   "cell_type": "markdown",
   "id": "99fdb400-0688-4723-b65b-4ca082bf54af",
   "metadata": {},
   "source": [
    "#### Practical 3\n",
    "\n",
    "The researchers are interested to examine if upper body strength and lower body strengths of an older person are associated with the number and severity of falls. The injury index was calculated to indicate number and severity of accidents that an older person suffered.\n",
    "\n",
    "Variable / Definition\n",
    "1) injury : Overall injury index based on medical records\n",
    "2) gluts  : A measure of strength of the lower body\n",
    "3) arms   : A measure of strength of the upper body\n",
    "4) age    : Age of participants (in years)\n",
    "5) gender : Gender of participants (0: Male, 1: Female)\n",
    "\n",
    "\n"
   ]
  },
  {
   "cell_type": "code",
   "execution_count": 1,
   "id": "f94d0aed-135e-4431-9c28-31b51f28b3e7",
   "metadata": {},
   "outputs": [],
   "source": [
    "# Import Libraries\n",
    "import pandas as pd\n",
    "import numpy as np\n",
    "import statsmodels.formula.api as smf # or import statsmodels.api as sm "
   ]
  },
  {
   "cell_type": "code",
   "execution_count": 2,
   "id": "a4c958fd-e4d4-49db-bdb5-d553da5d7315",
   "metadata": {},
   "outputs": [],
   "source": [
    "# Load data into a DataFrame \n",
    "\n",
    "injuries = pd.read_csv(\"C:\\\\Users\\\\USER\\\\MPHD notebooks\\\\injuries.csv\")\n"
   ]
  },
  {
   "cell_type": "markdown",
   "id": "51f98f39-314e-40a2-95e0-f8bdcf34647e",
   "metadata": {},
   "source": [
    "### Data Preparation and exploration\n",
    "\n",
    "Use pandas functions to explore the structure of the dataset, check for missing values, outliers, and data errors; and understand the distribution of variables. Check for correct format for analysis."
   ]
  },
  {
   "cell_type": "code",
   "execution_count": 3,
   "id": "a76a1ba0-96d6-4fb2-9a09-fa63ad317687",
   "metadata": {},
   "outputs": [
    {
     "name": "stdout",
     "output_type": "stream",
     "text": [
      "     id  age  gender  gluts  arms  injury\n",
      "0     1   60       0     27    11     159\n",
      "1     2   65       0     26    36     238\n",
      "2     3   65       0     27    28     195\n",
      "3     4   64       0     27    24     212\n",
      "4     5   67       0     34    25     199\n",
      "..  ...  ...     ...    ...   ...     ...\n",
      "95   96   70       1     31    30     161\n",
      "96   97   69       1     33    28     184\n",
      "97   98   63       1     28    38     131\n",
      "98   99   73       1     25     9     207\n",
      "99  100   75       1     36    42     191\n",
      "\n",
      "[100 rows x 6 columns]\n"
     ]
    }
   ],
   "source": [
    "# check dataframe\n",
    "\n",
    "print(injuries)"
   ]
  },
  {
   "cell_type": "code",
   "execution_count": 4,
   "id": "40d7cc27-43ec-4708-b685-a46a0c7d1a5b",
   "metadata": {},
   "outputs": [
    {
     "name": "stdout",
     "output_type": "stream",
     "text": [
      "<class 'pandas.core.frame.DataFrame'>\n",
      "RangeIndex: 100 entries, 0 to 99\n",
      "Data columns (total 6 columns):\n",
      " #   Column  Non-Null Count  Dtype\n",
      "---  ------  --------------  -----\n",
      " 0   id      100 non-null    int64\n",
      " 1   age     100 non-null    int64\n",
      " 2   gender  100 non-null    int64\n",
      " 3   gluts   100 non-null    int64\n",
      " 4   arms    100 non-null    int64\n",
      " 5   injury  100 non-null    int64\n",
      "dtypes: int64(6)\n",
      "memory usage: 4.8 KB\n",
      "None\n"
     ]
    }
   ],
   "source": [
    "# Display basic information about the dataset\n",
    "\n",
    "print(injuries.info())"
   ]
  },
  {
   "cell_type": "code",
   "execution_count": 5,
   "id": "535cb894-eb26-43f9-b659-b7158aa87fbb",
   "metadata": {},
   "outputs": [
    {
     "data": {
      "text/plain": [
       "(100, 6)"
      ]
     },
     "execution_count": 5,
     "metadata": {},
     "output_type": "execute_result"
    }
   ],
   "source": [
    "# check data shape\n",
    "\n",
    "injuries.shape"
   ]
  },
  {
   "cell_type": "code",
   "execution_count": 6,
   "id": "57b7c7a4-cc95-4829-88ea-4e9f8986e8b4",
   "metadata": {},
   "outputs": [
    {
     "name": "stdout",
     "output_type": "stream",
     "text": [
      "id        0\n",
      "age       0\n",
      "gender    0\n",
      "gluts     0\n",
      "arms      0\n",
      "injury    0\n",
      "dtype: int64\n"
     ]
    }
   ],
   "source": [
    "# Check missing data\n",
    "\n",
    "missing_data = injuries.isnull().sum()\n",
    "print(missing_data)"
   ]
  },
  {
   "cell_type": "code",
   "execution_count": 7,
   "id": "4574bd93-5885-4925-abb4-570b35985753",
   "metadata": {},
   "outputs": [],
   "source": [
    "# Select variables to analyse\n",
    "\n",
    "selected_variables = ['age', 'gender', 'gluts', 'arms', 'injury'] # drop id\n",
    "data = injuries[selected_variables]\n"
   ]
  },
  {
   "cell_type": "code",
   "execution_count": 8,
   "id": "6f51f821-6586-48cf-af65-289ad90048cf",
   "metadata": {},
   "outputs": [
    {
     "name": "stdout",
     "output_type": "stream",
     "text": [
      "          age  gender   gluts    arms  injury\n",
      "count  100.00  100.00  100.00  100.00  100.00\n",
      "mean    67.09    0.49   31.08   30.40  145.80\n",
      "std      3.62    0.50    5.78    8.54   52.20\n",
      "min     60.00    0.00   15.00    5.00    6.00\n",
      "25%     64.75    0.00   27.00   24.75  112.25\n",
      "50%     67.00    0.00   31.00   30.00  148.00\n",
      "75%     70.00    1.00   34.25   36.25  184.50\n",
      "max     75.00    1.00   47.00   48.00  279.00\n"
     ]
    }
   ],
   "source": [
    "# Display descriptive statistics\n",
    "print(data.describe().round(2))"
   ]
  },
  {
   "cell_type": "code",
   "execution_count": 9,
   "id": "7d80bdd4-86a3-43fb-a7ad-b6ddd78d7593",
   "metadata": {},
   "outputs": [
    {
     "data": {
      "image/png": "[encoded data removed]",
      "text/plain": [
       "<Figure size 640x480 with 1 Axes>"
      ]
     },
     "metadata": {},
     "output_type": "display_data"
    }
   ],
   "source": [
    "# Check data distribution\n",
    "\n",
    "import matplotlib.pyplot as plt\n",
    "\n",
    "# Plot histogram\n",
    "plt.hist(data['injury'], bins=10, color='skyblue', edgecolor='black')\n",
    "\n",
    "# Add labels and title\n",
    "plt.xlabel('Injury')\n",
    "plt.ylabel('Frequency')\n",
    "plt.title('Histogram of Injury')\n",
    "\n",
    "# Display histogram\n",
    "plt.show()\n",
    "\n"
   ]
  },
  {
   "cell_type": "code",
   "execution_count": 10,
   "id": "c54169bf-9b55-428d-bfd2-eb480491ad99",
   "metadata": {},
   "outputs": [
    {
     "name": "stdout",
     "output_type": "stream",
     "text": [
      "Skewness:\n",
      "        Skewness\n",
      "age     0.034723\n",
      "arms   -0.369631\n",
      "gluts  -0.015470\n",
      "injury -0.099198\n",
      "\n",
      "Kurtosis:\n",
      "        Kurtosis\n",
      "age    -0.657302\n",
      "arms    0.065117\n",
      "gluts   0.130505\n",
      "injury -0.037121\n"
     ]
    }
   ],
   "source": [
    "# check for skewness and kurtosis\n",
    "\n",
    "from scipy.stats import skew, kurtosis, shapiro\n",
    "import pandas as pd\n",
    "\n",
    "# Calculate skewness and kurtosis\n",
    "skewness = pd.DataFrame({'Skewness': [skew(data['age']), skew(data['arms']), skew(data['gluts']), skew(data['injury'])]},\n",
    "                        index=['age', 'arms', 'gluts', 'injury'])\n",
    "kurtosis = pd.DataFrame({'Kurtosis': [kurtosis(data['age']), kurtosis(data['arms']), kurtosis(data['gluts']), kurtosis(data['injury'])]},\n",
    "                        index=['age', 'arms', 'gluts', 'injury'])\n",
    "\n",
    "print(\"Skewness:\")\n",
    "print(skewness)\n",
    "print(\"\\nKurtosis:\")\n",
    "print(kurtosis)\n"
   ]
  },
  {
   "cell_type": "code",
   "execution_count": 11,
   "id": "c8ea8d54-0417-4497-bf7c-1d0884e74923",
   "metadata": {},
   "outputs": [
    {
     "name": "stdout",
     "output_type": "stream",
     "text": [
      "\n",
      "Shapiro-Wilk Test (p-values):\n",
      "        Shapiro-Wilk p-value\n",
      "age                 0.174147\n",
      "arms                0.256613\n",
      "gluts               0.911418\n",
      "injury              0.852872\n"
     ]
    }
   ],
   "source": [
    "# check for normality # perform Shapiro-Wilk test for normality\n",
    "\n",
    "from scipy.stats import skew, kurtosis, shapiro\n",
    "import pandas as pd\n",
    "\n",
    "shapiro_test = pd.DataFrame({'Shapiro-Wilk p-value': [shapiro(data['age'])[1], shapiro(data['arms'])[1], shapiro(data['gluts'])[1], shapiro(data['injury'])[1]]},\n",
    "                            index=['age', 'arms', 'gluts', 'injury'])\n",
    "\n",
    "\n",
    "print(\"\\nShapiro-Wilk Test (p-values):\")\n",
    "print(shapiro_test)\n",
    "\n",
    "\n"
   ]
  },
  {
   "cell_type": "code",
   "execution_count": 12,
   "id": "1578acd7-ae7d-4a18-9ef7-08c26a90ac3e",
   "metadata": {},
   "outputs": [
    {
     "data": {
      "image/png": "[encoded data removed]",
      "text/plain": [
       "<Figure size 640x480 with 1 Axes>"
      ]
     },
     "metadata": {},
     "output_type": "display_data"
    },
    {
     "data": {
      "image/png": "[encoded data removed]",
      "text/plain": [
       "<Figure size 640x480 with 1 Axes>"
      ]
     },
     "metadata": {},
     "output_type": "display_data"
    },
    {
     "data": {
      "image/png": "[encoded data removed]",
      "text/plain": [
       "<Figure size 640x480 with 1 Axes>"
      ]
     },
     "metadata": {},
     "output_type": "display_data"
    }
   ],
   "source": [
    "# Data visualisation using scatterplot\n",
    "# check for possible linear relationship\n",
    "\n",
    "import matplotlib.pyplot as plt\n",
    "\n",
    "# Scatter plot for 'age' vs 'injuries'\n",
    "plt.scatter(data['age'], data['injury'])\n",
    "plt.title('Scatter plot of Age vs Injuries')\n",
    "plt.title('Scatter plot of Age vs Injuries')\n",
    "plt.xlabel('Age')\n",
    "plt.ylabel('Injuries')\n",
    "plt.show()\n",
    "\n",
    "# Scatter plot for 'gluts' vs 'injuries'\n",
    "plt.scatter(data['gluts'], data['injury'])\n",
    "plt.title('Scatter plot of Gluts vs Injuries')\n",
    "plt.xlabel('Gluts')\n",
    "plt.ylabel('Injuries')\n",
    "plt.show()\n",
    "\n",
    "# Scatter plot for 'arms' vs 'injuries'\n",
    "plt.scatter(data['arms'], data['injury'])\n",
    "plt.title('Scatter plot of Arms vs Injuries')\n",
    "plt.xlabel('Arms')\n",
    "plt.ylabel('Injuries')\n",
    "plt.show()\n"
   ]
  },
  {
   "cell_type": "markdown",
   "id": "91874a18-6801-4790-abe6-162376376bee",
   "metadata": {},
   "source": [
    "### Correlation analysis"
   ]
  },
  {
   "cell_type": "code",
   "execution_count": 13,
   "id": "3bc8c087-9f26-4ef8-8d87-49447ad181aa",
   "metadata": {},
   "outputs": [
    {
     "name": "stdout",
     "output_type": "stream",
     "text": [
      "Correlation Matrix:\n",
      "           age   gluts    arms  injury\n",
      "age      1.000   0.177  -0.002   0.282\n",
      "gluts    0.177   1.000   0.338  -0.393\n",
      "arms    -0.002   0.338   1.000  -0.243\n",
      "injury   0.282  -0.393  -0.243   1.000\n",
      "P-Values Matrix:\n",
      "          age  gluts   arms injury\n",
      "age     0.000  0.078  0.980  0.005\n",
      "gluts   0.078  0.000  0.001  0.000\n",
      "arms    0.980  0.001  0.000  0.015\n",
      "injury  0.005  0.000  0.015  0.000\n"
     ]
    }
   ],
   "source": [
    "# Correlation analysis for quantitative data\n",
    "\n",
    "from scipy.stats import pearsonr\n",
    "\n",
    "# Select columns for correlation analysis, excluding 'gender'\n",
    "correlation_var = data.drop(columns='gender').columns\n",
    "\n",
    "# Initialize empty DataFrames to store correlation coefficients and p-values\n",
    "correlation_matrix = pd.DataFrame(columns=correlation_var, index=correlation_var)\n",
    "p_values_matrix = pd.DataFrame(columns=correlation_var, index=correlation_var)\n",
    "\n",
    "# Compute correlation coefficients and p-values for each pair of variables\n",
    "for i, column1 in enumerate(correlation_var):\n",
    "    for j, column2 in enumerate(correlation_var):\n",
    "        correlation_coefficient, p_value = pearsonr(data[column1], data[column2])\n",
    "        # Assign rounded values to correlation matrix\n",
    "        correlation_matrix.loc[column1, column2] = correlation_coefficient\n",
    "        # Assign rounded values to p-values matrix\n",
    "        p_values_matrix.loc[column1, column2] = p_value\n",
    "\n",
    "# Print rounded correlation matrix and p-values matrix with fixed decimal places\n",
    "print(\"Correlation Matrix:\")\n",
    "print(correlation_matrix.apply(lambda x: x.map(\"{:.3f}\".format)))\n",
    "\n",
    "print(\"P-Values Matrix:\")\n",
    "print(p_values_matrix.apply(lambda x: x.map(\"{:.3f}\".format)))\n"
   ]
  },
  {
   "cell_type": "code",
   "execution_count": 14,
   "id": "4a6c9ccd-3805-4377-8e90-6e5e2e965033",
   "metadata": {},
   "outputs": [
    {
     "data": {
      "image/png": "[encoded data removed]",
      "text/plain": [
       "<Figure size 600x400 with 2 Axes>"
      ]
     },
     "metadata": {},
     "output_type": "display_data"
    }
   ],
   "source": [
    "# Data visualisation using heat map\n",
    "\n",
    "import seaborn as sns\n",
    "import matplotlib.pyplot as plt\n",
    "\n",
    "# Select columns for correlation analysis, excluding 'gender'\n",
    "correlation_var = data.drop(columns='gender')\n",
    "\n",
    "# Compute correlation matrix\n",
    "correlation_matrix = correlation_var.corr()\n",
    "\n",
    "# Set up the matplotlib figure\n",
    "plt.figure(figsize=(6, 4))\n",
    "\n",
    "# Draw heatmap for correlation matrix\n",
    "sns.heatmap(correlation_matrix, annot=True, cmap=\"coolwarm\", linewidths=.5, fmt=\".3f\")\n",
    "plt.title('Correlation Matrix')\n",
    "\n",
    "plt.show()\n",
    "\n"
   ]
  },
  {
   "cell_type": "markdown",
   "id": "347fa985-1d7c-49ce-b204-36d862c11b7c",
   "metadata": {},
   "source": [
    "### Independent t-test"
   ]
  },
  {
   "cell_type": "code",
   "execution_count": 15,
   "id": "b441b040-f3b1-49e5-aeda-39fdc52f3f1c",
   "metadata": {},
   "outputs": [
    {
     "name": "stdout",
     "output_type": "stream",
     "text": [
      "T-Statistic: -0.576\n",
      "P-Value: 0.566\n"
     ]
    }
   ],
   "source": [
    "from scipy.stats import ttest_ind\n",
    "\n",
    "# Separate 'injury' values for each group defined by 'gender'\n",
    "injury_male = data[data['gender'] == 0]['injury']\n",
    "injury_female = data[data['gender'] == 1]['injury']\n",
    "\n",
    "# Perform independent t-test\n",
    "t_statistic, p_value = ttest_ind(injury_male, injury_female)\n",
    "\n",
    "# Print results\n",
    "print(\"T-Statistic:\", t_statistic.round(3))\n",
    "print(\"P-Value:\", p_value.round(3))\n"
   ]
  },
  {
   "cell_type": "markdown",
   "id": "f5f516a8-54c6-4f64-bb6f-fed769ef001a",
   "metadata": {},
   "source": [
    "### Multiple Linear Regression analysis"
   ]
  },
  {
   "cell_type": "code",
   "execution_count": 16,
   "id": "7c9cd983-2716-40f0-a4c2-e7250db337e9",
   "metadata": {},
   "outputs": [
    {
     "name": "stdout",
     "output_type": "stream",
     "text": [
      "                            OLS Regression Results                            \n",
      "==============================================================================\n",
      "Dep. Variable:                 injury   R-squared:                       0.294\n",
      "Model:                            OLS   Adj. R-squared:                  0.264\n",
      "Method:                 Least Squares   F-statistic:                     9.868\n",
      "Date:                Mon, 01 Apr 2024   Prob (F-statistic):           1.01e-06\n",
      "Time:                        12:12:40   Log-Likelihood:                -519.52\n",
      "No. Observations:                 100   AIC:                             1049.\n",
      "Df Residuals:                      95   BIC:                             1062.\n",
      "Df Model:                           4                                         \n",
      "Covariance Type:            nonrobust                                         \n",
      "==============================================================================\n",
      "                 coef    std err          t      P>|t|      [0.025      0.975]\n",
      "------------------------------------------------------------------------------\n",
      "Intercept    -62.6770     85.193     -0.736      0.464    -231.806     106.452\n",
      "age            5.1103      1.266      4.035      0.000       2.596       7.624\n",
      "gender         5.9006      9.013      0.655      0.514     -11.992      23.793\n",
      "arms          -0.6449      0.564     -1.143      0.256      -1.765       0.476\n",
      "gluts         -3.7856      0.843     -4.490      0.000      -5.459      -2.112\n",
      "==============================================================================\n",
      "Omnibus:                        0.237   Durbin-Watson:                   2.033\n",
      "Prob(Omnibus):                  0.888   Jarque-Bera (JB):                0.417\n",
      "Skew:                           0.036   Prob(JB):                        0.812\n",
      "Kurtosis:                       2.692   Cond. No.                     1.52e+03\n",
      "==============================================================================\n",
      "\n",
      "Notes:\n",
      "[1] Standard Errors assume that the covariance matrix of the errors is correctly specified.\n",
      "[2] The condition number is large, 1.52e+03. This might indicate that there are\n",
      "strong multicollinearity or other numerical problems.\n"
     ]
    }
   ],
   "source": [
    "# Multiple linear regression (full model)\n",
    "\n",
    "# Run multiple linear regression\n",
    "import pandas as pd\n",
    "import statsmodels.formula.api as smf\n",
    "\n",
    "# Define the formula for multiple linear regression\n",
    "formula = 'injury ~ age + gender + arms + gluts'\n",
    "\n",
    "# Fit the regression model\n",
    "model = smf.ols(formula=formula, data=data).fit()\n",
    "\n",
    "# Print the summary of the regression model\n",
    "print(model.summary())\n",
    "\n"
   ]
  },
  {
   "cell_type": "markdown",
   "id": "cd4dd3c0-ad98-4784-bc68-4bd5fdf987de",
   "metadata": {},
   "source": [
    "##### Interpretation\n",
    "\n",
    "R-squared: The R-squared value measures the proportion of the variance in the dependent variable (injury) that is predictable from the independent variables (age, gender, arms, and gluts). The R-squared is 0.294, approximately 29.4% of the variance in injury can be explained by the independent variables.\n",
    "\n",
    "Adjusted R-squared: Adjusted R-squared takes into account the number of predictors in the model. It penalizes the addition of unnecessary predictors that do not improve the model significantly. The adjusted R-squared (0.264) is slightly lower than the R-squared value, suggesting that the model may not be improved by including additional predictors.\n",
    "\n",
    "F-statistic and Prob (F-statistic): The F-statistic tests the overall significance of the model. The F-statistic is 9.868 with a very low p-value (1.01e-06), indicating that the overall model is statistically significant.\n",
    "\n",
    "Coefficients: The coefficients represent the estimated effect of each independent variable on the dependent variable, holding other variables constant. The coefficients for arms and gluts represent the expected change in injury for a one-unit increase in these variables, holding other variables constant. For example:\n",
    "\n",
    " -  a) For every one unit increase in age, injury is expected to increase by approximately 5.1103 units.\n",
    "\n",
    " -  b) The coefficient for gender is 5.9006, but it's not statistically significant (p-value > 0.05), suggesting that gender may not have a significant effect on injury after controlling for other variables.\n",
    "\n",
    "\n",
    "Intercept: The intercept represents the estimated value of the dependent variable when all independent variables are set to zero. In this case, it's -62.6770, but it's not statistically significant (p-value > 0.05).\n",
    "\n",
    "Standard Errors, t-values, and P-values: These values are associated with each coefficient and provide information about the reliability and significance of the estimated coefficients.\n",
    "\n",
    "Omnibus, Jarque-Bera (JB), Skew, Kurtosis: These are tests for normality of residuals. If the p-value < 0.05, suggests fail to reject the null hypothesis of normality, thus the residuals may not be normally distributed. In this case, both p-values are above 0.05, indicating that normality assumptions is not violated.\n",
    "\n",
    "Durbin-Watson: This tests for the presence of autocorrelation in the residuals. A value around 2 suggests no autocorrelation. The result 2.033, indicating no significant autocorrelation.\n",
    "\n",
    "Condition Number: This measures multicollinearity. A large condition number (1.52e+03) suggests possible multicollinearity among the independent variables, which may affect the stability of the coefficients.\n",
    "\n",
    "Overall, this regression model suggests that age and the presence of gluts are statistically significant predictors of injury, while gender and the presence of arms may not have a significant effect on injury after controlling for other variables. However, there might be multicollinearity issue."
   ]
  },
  {
   "cell_type": "markdown",
   "id": "95a6f208-98f6-4ad9-808f-390803703b2d",
   "metadata": {},
   "source": [
    "### Diagnostic test"
   ]
  },
  {
   "cell_type": "code",
   "execution_count": 17,
   "id": "36872bc0-c24c-461e-9a85-1261e1d6877f",
   "metadata": {},
   "outputs": [
    {
     "name": "stdout",
     "output_type": "stream",
     "text": [
      "  Variable        VIF\n",
      "0      age  34.269919\n",
      "1   gender   1.983888\n",
      "2     arms  15.424769\n",
      "3    gluts  35.312475\n"
     ]
    }
   ],
   "source": [
    "from statsmodels.stats.outliers_influence import variance_inflation_factor\n",
    "\n",
    "# Extract independent variables\n",
    "X = data[['age', 'gender', 'arms', 'gluts']]\n",
    "\n",
    "# Calculate VIF\n",
    "vif = pd.DataFrame()\n",
    "vif[\"Variable\"] = X.columns\n",
    "vif[\"VIF\"] = [variance_inflation_factor(X.values, i) for i in range(X.shape[1])]\n",
    "print(vif)\n",
    "\n",
    "# VIF values greater than 10 indicate multicollinearity."
   ]
  },
  {
   "cell_type": "code",
   "execution_count": 18,
   "id": "11159de3-ee81-4213-95ba-09baf797eb5e",
   "metadata": {},
   "outputs": [
    {
     "name": "stdout",
     "output_type": "stream",
     "text": [
      "                            OLS Regression Results                            \n",
      "==============================================================================\n",
      "Dep. Variable:                 injury   R-squared:                       0.172\n",
      "Model:                            OLS   Adj. R-squared:                  0.147\n",
      "Method:                 Least Squares   F-statistic:                     6.667\n",
      "Date:                Mon, 01 Apr 2024   Prob (F-statistic):           0.000388\n",
      "Time:                        12:12:40   Log-Likelihood:                -527.43\n",
      "No. Observations:                 100   AIC:                             1063.\n",
      "Df Residuals:                      96   BIC:                             1073.\n",
      "Df Model:                           3                                         \n",
      "Covariance Type:            nonrobust                                         \n",
      "==============================================================================\n",
      "                 coef    std err          t      P>|t|      [0.025      0.975]\n",
      "------------------------------------------------------------------------------\n",
      "Intercept    264.3765     28.264      9.354      0.000     208.273     320.480\n",
      "gender         6.9679      9.700      0.718      0.474     -12.286      26.221\n",
      "arms          -0.8042      0.606     -1.327      0.188      -2.008       0.399\n",
      "gluts         -3.1384      0.891     -3.522      0.001      -4.907      -1.370\n",
      "==============================================================================\n",
      "Omnibus:                        0.173   Durbin-Watson:                   2.124\n",
      "Prob(Omnibus):                  0.917   Jarque-Bera (JB):                0.055\n",
      "Skew:                           0.057   Prob(JB):                        0.973\n",
      "Kurtosis:                       3.006   Cond. No.                         260.\n",
      "==============================================================================\n",
      "\n",
      "Notes:\n",
      "[1] Standard Errors assume that the covariance matrix of the errors is correctly specified.\n"
     ]
    }
   ],
   "source": [
    "# ReRun multiple linear regression # drop age (high VIF)\n",
    "\n",
    "# Run multiple linear regression\n",
    "import pandas as pd\n",
    "import statsmodels.formula.api as smf\n",
    "\n",
    "# Define the formula for multiple linear regression\n",
    "formula = 'injury ~ gender + arms + gluts'\n",
    "\n",
    "# Fit the regression model\n",
    "model = smf.ols(formula=formula, data=data).fit()\n",
    "\n",
    "# Print the summary of the regression model\n",
    "print(model.summary())\n",
    "\n",
    "# Output: R2 dropped significantly"
   ]
  },
  {
   "cell_type": "code",
   "execution_count": 19,
   "id": "4cb6202f-6e1e-45d1-86bb-ed00f33c3d98",
   "metadata": {},
   "outputs": [
    {
     "name": "stdout",
     "output_type": "stream",
     "text": [
      "                            OLS Regression Results                            \n",
      "==============================================================================\n",
      "Dep. Variable:                 injury   R-squared:                       0.284\n",
      "Model:                            OLS   Adj. R-squared:                  0.261\n",
      "Method:                 Least Squares   F-statistic:                     12.68\n",
      "Date:                Mon, 01 Apr 2024   Prob (F-statistic):           4.73e-07\n",
      "Time:                        12:12:40   Log-Likelihood:                -520.20\n",
      "No. Observations:                 100   AIC:                             1048.\n",
      "Df Residuals:                      96   BIC:                             1059.\n",
      "Df Model:                           3                                         \n",
      "Covariance Type:            nonrobust                                         \n",
      "==============================================================================\n",
      "                 coef    std err          t      P>|t|      [0.025      0.975]\n",
      "------------------------------------------------------------------------------\n",
      "Intercept    -78.1645     84.241     -0.928      0.356    -245.382      89.053\n",
      "age            5.2115      1.265      4.119      0.000       2.700       7.723\n",
      "gender         4.8044      8.976      0.535      0.594     -13.012      22.621\n",
      "gluts         -4.1193      0.792     -5.200      0.000      -5.692      -2.547\n",
      "==============================================================================\n",
      "Omnibus:                        0.206   Durbin-Watson:                   1.971\n",
      "Prob(Omnibus):                  0.902   Jarque-Bera (JB):                0.389\n",
      "Skew:                           0.021   Prob(JB):                        0.823\n",
      "Kurtosis:                       2.697   Cond. No.                     1.39e+03\n",
      "==============================================================================\n",
      "\n",
      "Notes:\n",
      "[1] Standard Errors assume that the covariance matrix of the errors is correctly specified.\n",
      "[2] The condition number is large, 1.39e+03. This might indicate that there are\n",
      "strong multicollinearity or other numerical problems.\n"
     ]
    }
   ],
   "source": [
    "# ReRun multiple linear regression # drop arms (include age)\n",
    "\n",
    "# Run multiple linear regression\n",
    "import pandas as pd\n",
    "import statsmodels.formula.api as smf\n",
    "\n",
    "# Define the formula for multiple linear regression\n",
    "formula = 'injury ~ age + gender + gluts'\n",
    "\n",
    "# Fit the regression model\n",
    "model = smf.ols(formula=formula, data=data).fit()\n",
    "\n",
    "# Print the summary of the regression model\n",
    "print(model.summary())\n",
    "\n"
   ]
  },
  {
   "cell_type": "code",
   "execution_count": 20,
   "id": "d08d48bf-b6d8-46e1-a460-0387ea1f4da8",
   "metadata": {},
   "outputs": [
    {
     "name": "stdout",
     "output_type": "stream",
     "text": [
      "                            OLS Regression Results                            \n",
      "==============================================================================\n",
      "Dep. Variable:                 injury   R-squared:                       0.282\n",
      "Model:                            OLS   Adj. R-squared:                  0.267\n",
      "Method:                 Least Squares   F-statistic:                     19.02\n",
      "Date:                Mon, 01 Apr 2024   Prob (F-statistic):           1.07e-07\n",
      "Time:                        12:12:40   Log-Likelihood:                -520.35\n",
      "No. Observations:                 100   AIC:                             1047.\n",
      "Df Residuals:                      97   BIC:                             1055.\n",
      "Df Model:                           2                                         \n",
      "Covariance Type:            nonrobust                                         \n",
      "==============================================================================\n",
      "                 coef    std err          t      P>|t|      [0.025      0.975]\n",
      "------------------------------------------------------------------------------\n",
      "Intercept    -76.6304     83.882     -0.914      0.363    -243.113      89.853\n",
      "age            5.2264      1.260      4.147      0.000       2.725       7.728\n",
      "gluts         -4.1252      0.789     -5.228      0.000      -5.691      -2.559\n",
      "==============================================================================\n",
      "Omnibus:                        0.176   Durbin-Watson:                   1.972\n",
      "Prob(Omnibus):                  0.916   Jarque-Bera (JB):                0.361\n",
      "Skew:                          -0.006   Prob(JB):                        0.835\n",
      "Kurtosis:                       2.706   Cond. No.                     1.39e+03\n",
      "==============================================================================\n",
      "\n",
      "Notes:\n",
      "[1] Standard Errors assume that the covariance matrix of the errors is correctly specified.\n",
      "[2] The condition number is large, 1.39e+03. This might indicate that there are\n",
      "strong multicollinearity or other numerical problems.\n"
     ]
    }
   ],
   "source": [
    "# ReRun multiple linear regression (drop gender - redundant)\n",
    "\n",
    "# Run multiple linear regression\n",
    "import pandas as pd\n",
    "import statsmodels.formula.api as smf\n",
    "\n",
    "# Define the formula for multiple linear regression\n",
    "formula = 'injury ~ age + gluts'\n",
    "\n",
    "# Fit the regression model\n",
    "model = smf.ols(formula=formula, data=data).fit()\n",
    "\n",
    "# Print the summary of the regression model\n",
    "print(model.summary())"
   ]
  },
  {
   "cell_type": "markdown",
   "id": "a9adf2f4-7173-4823-bd07-f3f4d5a3ae1e",
   "metadata": {},
   "source": [
    "### Test interaction"
   ]
  },
  {
   "cell_type": "code",
   "execution_count": 21,
   "id": "2cb9d1db",
   "metadata": {},
   "outputs": [
    {
     "name": "stdout",
     "output_type": "stream",
     "text": [
      "                            OLS Regression Results                            \n",
      "==============================================================================\n",
      "Dep. Variable:                 injury   R-squared:                       0.319\n",
      "Model:                            OLS   Adj. R-squared:                  0.298\n",
      "Method:                 Least Squares   F-statistic:                     15.01\n",
      "Date:                Mon, 01 Apr 2024   Prob (F-statistic):           4.37e-08\n",
      "Time:                        12:12:40   Log-Likelihood:                -517.66\n",
      "No. Observations:                 100   AIC:                             1043.\n",
      "Df Residuals:                      96   BIC:                             1054.\n",
      "Df Model:                           3                                         \n",
      "Covariance Type:            nonrobust                                         \n",
      "==============================================================================\n",
      "                 coef    std err          t      P>|t|      [0.025      0.975]\n",
      "------------------------------------------------------------------------------\n",
      "Intercept   1003.7702    476.314      2.107      0.038      58.294    1949.246\n",
      "age          -10.9388      7.128     -1.535      0.128     -25.087       3.209\n",
      "gluts        -37.7443     14.620     -2.582      0.011     -66.765      -8.723\n",
      "age:gluts      0.5022      0.218      2.303      0.023       0.069       0.935\n",
      "==============================================================================\n",
      "Omnibus:                        0.013   Durbin-Watson:                   2.006\n",
      "Prob(Omnibus):                  0.993   Jarque-Bera (JB):                0.126\n",
      "Skew:                           0.018   Prob(JB):                        0.939\n",
      "Kurtosis:                       2.830   Cond. No.                     2.32e+05\n",
      "==============================================================================\n",
      "\n",
      "Notes:\n",
      "[1] Standard Errors assume that the covariance matrix of the errors is correctly specified.\n",
      "[2] The condition number is large, 2.32e+05. This might indicate that there are\n",
      "strong multicollinearity or other numerical problems.\n"
     ]
    }
   ],
   "source": [
    "# Test interaction\n",
    "# potential interaction \n",
    "\n",
    "# ReRun multiple linear regression with interaction term\n",
    "import pandas as pd\n",
    "import statsmodels.formula.api as smf\n",
    "\n",
    "# Define the formula for multiple linear regression\n",
    "formula = 'injury ~ age + gluts + age:gluts'\n",
    "\n",
    "# Fit the regression model\n",
    "model = smf.ols(formula=formula, data=data).fit()\n",
    "\n",
    "# Print the summary of the regression model\n",
    "print(model.summary())\n"
   ]
  },
  {
   "cell_type": "markdown",
   "id": "fba5231d-75e2-4c1b-9bc9-e1be28806c01",
   "metadata": {},
   "source": [
    "##### Interpretation\n",
    "\n",
    "1. age:gluts - p-value for (age:gluts) is 0.023 suggests that the interaction effect between (age) and (gluts) is statistically significant, the effect of (age) on (injury) is modified by the presence of 'gluts', and the effect of (gluts) on (injury) is modified by the age of the individuals. For a one-unit increase in both age and gluts, the expected change in injury increases by 0.5022 units, on average.\n",
    "2. Adjusted squared - The model explains 31.9% of the variance in (injury).\n",
    "3. Other Coefficient - The coefficients for(age) and(gluts) represent their individual effects on (injury) without considering the interaction effect.\n",
    "   - The coefficient for gluts is -37.7443. Holding age constant, for each one unit increase in gluts, the injury decreases by approximately 37.74 units. p-value= 0.011, gluts is statistically significant.\n",
    "   - The coefficient for age is -10.9388. This suggests that,  for each one unit increase in age, the injury decreases by approximately 10.94 units, holding gluts constant. However, the p-value is 0.128, indicating that age is not statistically significant.\n",
    "4. Overall, the presence of a significant interaction effect between age and gluts suggests that their combined influence injury is different from what would be expected based their individual effects. Age alone may not be statistically significant. \n",
    "\n",
    "####### Injury = 1003.77 − 10.94(Age) −37.74(Gluts) +  0.50(Age*Gluts)\n",
    "\n",
    "\n",
    "Diagnostic tests:\n",
    "\n",
    "Jarque-Bera (JB)= 0.126, p = 0.939 (p>0.05), fail to reject the null hypothesis of normality, thus residuals is normally distributed.\n",
    "\n",
    "Durbin-Watson= 2.006 (close to 2) indicating no significant autocorrelation support the independence of errors assumption.\n"
   ]
  },
  {
   "cell_type": "code",
   "execution_count": 22,
   "id": "2c8991f3-a012-4d02-b3f0-64b8069a870b",
   "metadata": {},
   "outputs": [
    {
     "data": {
      "image/png": "[encoded data removed]",
      "text/plain": [
       "<Figure size 640x480 with 1 Axes>"
      ]
     },
     "metadata": {},
     "output_type": "display_data"
    }
   ],
   "source": [
    "# check for homoscedasticity (constant variance)\n",
    "\n",
    "import matplotlib.pyplot as plt\r\n",
    "import statsmodels.api as sm\r\n",
    "\r\n",
    "# Assuming model is the fitted regression model\r\n",
    "residuals = model.resid\r\n",
    "fitted_values = model.fittedvalues\r\n",
    "\r\n",
    "plt.scatter(fitted_values, residuals)\r\n",
    "plt.xlabel(\"Fitted Values\")\r\n",
    "plt.ylabel(\"Residuals\")\r\n",
    "plt.title(\"Residual Plot\")\r\n",
    "plt.show()\r\n"
   ]
  },
  {
   "cell_type": "markdown",
   "id": "31d614f3-8c08-4bd5-99eb-8c68a9e920db",
   "metadata": {},
   "source": [
    "Interpretation: A random scatter of points around the horizontal axis (zero residual line) indicates that the assumption of homoscedasticity is likely met. The variance of the residuals is constant across different levels of the independent variable(s). No systematic pattern in the residuals, suggesting that the model's performance is consistent across the range of predicted values."
   ]
  },
  {
   "cell_type": "code",
   "execution_count": 23,
   "id": "06bb4e4a-2fac-4ac7-8d04-b13916ed2388",
   "metadata": {},
   "outputs": [
    {
     "name": "stdout",
     "output_type": "stream",
     "text": [
      "Lagrange Multiplier p-value: 0.773\n",
      "F-statistic p-value: 0.781\n"
     ]
    }
   ],
   "source": [
    "from statsmodels.stats.diagnostic import het_breuschpagan\n",
    "\n",
    "# Assuming model is the fitted regression model\n",
    "lm, lm_p_value, fvalue, f_p_value = het_breuschpagan(residuals, model.model.exog)\n",
    "print(\"Lagrange Multiplier p-value:\", round(lm_p_value, 3))\n",
    "print(\"F-statistic p-value:\", round(f_p_value, 3))\n",
    "\n"
   ]
  },
  {
   "cell_type": "markdown",
   "id": "c9e6c758-1fce-4bfe-945e-d5a2533cd9e9",
   "metadata": {},
   "source": [
    "Interpretation: both p-values (LM test p-value and F-statistic p-value) > 0.05, you fail to reject the null hypothesis of homoscedasticity. There is no significant evidence of heteroscedasticity in the model."
   ]
  },
  {
   "cell_type": "code",
   "execution_count": null,
   "id": "d1548aa0-c696-4112-8f75-3771d1ecb234",
   "metadata": {},
   "outputs": [],
   "source": []
  }
 ],
 "metadata": {
  "kernelspec": {
   "display_name": "Python 3 (ipykernel)",
   "language": "python",
   "name": "python3"
  },
  "language_info": {
   "codemirror_mode": {
    "name": "ipython",
    "version": 3
   },
   "file_extension": ".py",
   "mimetype": "text/x-python",
   "name": "python",
   "nbconvert_exporter": "python",
   "pygments_lexer": "ipython3",
   "version": "3.11.7"
  }
 },
 "nbformat": 4,
 "nbformat_minor": 5
}
