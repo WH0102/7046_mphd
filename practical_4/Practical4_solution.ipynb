{
 "cells": [
  {
   "cell_type": "markdown",
   "id": "cdb89cad-edd0-46a0-90d6-53263e2393f8",
   "metadata": {},
   "source": [
    "# MQB7046 MODELLING PUBLIC HEALTH DATA - Multinomial logistic regression\n",
    "\n",
    "###### Prepared by Claire Choo (4/4/2024)"
   ]
  },
  {
   "cell_type": "markdown",
   "id": "4c883c4d-f289-4389-8a08-ff17feacc03d",
   "metadata": {},
   "source": [
    "Multinomial logistic regression is a statistical method used to model the relationship between multiple categorical outcome variables and one or more independent variables.\n",
    "\n",
    "* Data Preparation:\n",
    "  - Load the dataset and ensure it is properly formatted.\n",
    "  - Convert any categorical variables into dummy variables or use one-hot encoding.\n",
    "\n",
    "\n",
    "* Model Specification:\r",
    "  - Import the statsmodels.api module\n",
    "  - Define independent variables and dependent variable\n",
    "  - Add a constant termther independent variables using sm.add_constant().\n",
    "  - Specify the multinomial logistic regression model using sm.MNLog().\n",
    "\n",
    "\n",
    "* Model Fitting:\n",
    "  - Fit the model with the data using the .fit() method.\n",
    "\n",
    "\r",
    "* Interpretation and Evaluation: \n",
    "  - Interpret the coefficients, p-values, and confidence intervals to assess the significance of the independent variables (or predictors).\n",
    "  - Assess the goodness-of-fit of the model using appropriate metrics like pseudo-R squared, likelihood ratio tests, or others.\n",
    "  - Consider the odds ratios associated with each predictor variable to assess the magnitude of the effect.\r\n"
   ]
  },
  {
   "cell_type": "markdown",
   "id": "74d2766b-d90c-480d-8254-b050a3591ca9",
   "metadata": {},
   "source": [
    " "
   ]
  },
  {
   "cell_type": "markdown",
   "id": "2283d55f-dfcc-4d87-8ffa-2d09f99409c3",
   "metadata": {},
   "source": [
    "#### Practical 4\n",
    "\n",
    "The researchers are interested to examine factors associated with employment status of a group of individuals.\n",
    "\n",
    "Variable / Definition:\n",
    "1) id  : identification number\n",
    "2) Sex : Gender of participants (Male, Female)\n",
    "3) Age : Age group of participants (25-44,45-54, 55-64)\n",
    "4) Marital: Marital status (Married/Cohabiting, Single, Widowed/Divorced) \n",
    "5) Employment : Employment status (Employed, Nonemployed, Unemployed)\n"
   ]
  },
  {
   "cell_type": "code",
   "execution_count": 3,
   "id": "017318eb-f2e2-40c4-a8c7-567b372280d3",
   "metadata": {},
   "outputs": [
    {
     "name": "stdout",
     "output_type": "stream",
     "text": [
      "      id     Sex    Age             Marital   Employment\n",
      "0      1    Male  55-64  Married/Cohabiting     Employed\n",
      "1      2    Male  25-44  Married/Cohabiting  Nonemployed\n",
      "2      3    Male  25-44  Married/Cohabiting     Employed\n",
      "3      4    Male  55-64  Married/Cohabiting     Employed\n",
      "4      5    Male  55-64  Married/Cohabiting     Employed\n",
      "..   ...     ...    ...                 ...          ...\n",
      "736  737    Male  45-54  Married/Cohabiting     Employed\n",
      "737  738    Male  25-44              Single   Unemployed\n",
      "738  739  Female  25-44              Single     Employed\n",
      "739  740    Male  25-44  Married/Cohabiting     Employed\n",
      "740  741    Male  45-54   Widowed/ Divorced     Employed\n",
      "\n",
      "[741 rows x 5 columns]\n"
     ]
    }
   ],
   "source": [
    "import pandas as pd\n",
    "\n",
    "# Load the dataset into a DataFrame\n",
    "\n",
    "work = pd.read_csv(\"C:\\\\Users\\\\USER\\\\notebooks\\\\open.csv\")\n",
    "\n",
    "# Display the first few rows of the DataFrame to verify that the data is loaded correctly\n",
    "print(work)"
   ]
  },
  {
   "cell_type": "code",
   "execution_count": 2,
   "id": "72b1cd2a-041e-4dcf-85bd-dfbb955234ef",
   "metadata": {},
   "outputs": [
    {
     "name": "stdout",
     "output_type": "stream",
     "text": [
      "<class 'pandas.core.frame.DataFrame'>\n",
      "RangeIndex: 741 entries, 0 to 740\n",
      "Data columns (total 5 columns):\n",
      " #   Column      Non-Null Count  Dtype \n",
      "---  ------      --------------  ----- \n",
      " 0   id          741 non-null    int64 \n",
      " 1   Sex         741 non-null    object\n",
      " 2   Age         741 non-null    object\n",
      " 3   Marital     741 non-null    object\n",
      " 4   Employment  741 non-null    object\n",
      "dtypes: int64(1), object(4)\n",
      "memory usage: 29.1+ KB\n",
      "None\n"
     ]
    }
   ],
   "source": [
    "# Check the structure of the dataset\n",
    "print(work.info())"
   ]
  },
  {
   "cell_type": "code",
   "execution_count": null,
   "id": "0dd817a4-da31-4478-8fed-77d9b0e114f1",
   "metadata": {},
   "outputs": [],
   "source": []
  },
  {
   "cell_type": "code",
   "execution_count": 3,
   "id": "82485625-3b03-4b1a-930b-7e09ec5fb76e",
   "metadata": {},
   "outputs": [],
   "source": [
    "# Convert X to dummy variables (#convert categorical variable(s) into dummy/indicator variables)\n",
    "X_test1 = pd.get_dummies(work, columns=['Sex'], drop_first=True)"
   ]
  },
  {
   "cell_type": "code",
   "execution_count": 4,
   "id": "99ea5e4d-b999-4213-b094-c41443290b9c",
   "metadata": {},
   "outputs": [
    {
     "name": "stdout",
     "output_type": "stream",
     "text": [
      "      id    Age             Marital   Employment  Sex_Male\n",
      "0      1  55-64  Married/Cohabiting     Employed      True\n",
      "1      2  25-44  Married/Cohabiting  Nonemployed      True\n",
      "2      3  25-44  Married/Cohabiting     Employed      True\n",
      "3      4  55-64  Married/Cohabiting     Employed      True\n",
      "4      5  55-64  Married/Cohabiting     Employed      True\n",
      "..   ...    ...                 ...          ...       ...\n",
      "736  737  45-54  Married/Cohabiting     Employed      True\n",
      "737  738  25-44              Single   Unemployed      True\n",
      "738  739  25-44              Single     Employed     False\n",
      "739  740  25-44  Married/Cohabiting     Employed      True\n",
      "740  741  45-54   Widowed/ Divorced     Employed      True\n",
      "\n",
      "[741 rows x 5 columns]\n"
     ]
    }
   ],
   "source": [
    "print(X_test1)"
   ]
  },
  {
   "cell_type": "code",
   "execution_count": 5,
   "id": "39a2f76a-bec6-48c1-b8be-15a03ba53585",
   "metadata": {},
   "outputs": [],
   "source": [
    "# selects the column named 'Sex_Male' from the DataFrame X_test1. It uses double square brackets [['Sex_Male']] \n",
    "# to specify that we are selecting a subset of columns and not just a single column.\n",
    "\n",
    "X_Sex = X_test1[['Sex_Male']] "
   ]
  },
  {
   "cell_type": "code",
   "execution_count": 6,
   "id": "1e1f6d3f-c7ea-497b-918e-e93f73e488aa",
   "metadata": {},
   "outputs": [],
   "source": [
    "# Convert the target variable to categorical type and then encode it to numerial codes according to the a specific order\n",
    "y_test1 = pd.Categorical(work['Employment'], ordered=True, categories=['Employed', 'Nonemployed', 'Unemployed']).codes\n"
   ]
  },
  {
   "cell_type": "code",
   "execution_count": 7,
   "id": "5e869e90-0c0d-49e4-9e60-fb46cd33dd17",
   "metadata": {},
   "outputs": [
    {
     "name": "stdout",
     "output_type": "stream",
     "text": [
      "[0 1 0 0 0 0 1 2 0 0 0 0 0 1 0 0 0 0 1 0 0 1 0 0 0 0 0 0 1 0 1 0 0 0 1 0 0\n",
      " 1 0 0 0 0 0 1 0 0 0 0 0 0 2 0 1 0 0 0 1 0 0 0 0 0 2 1 0 0 0 0 0 0 0 0 0 0\n",
      " 0 1 0 0 1 0 1 0 0 0 1 0 0 0 0 1 0 0 0 0 0 1 1 0 1 0 0 0 0 1 1 0 0 1 1 0 0\n",
      " 0 0 0 0 0 0 0 0 0 0 0 0 1 0 0 0 0 0 0 0 0 0 0 1 0 2 0 0 0 0 0 0 0 0 0 0 0\n",
      " 0 0 0 1 0 0 1 0 1 0 0 0 1 0 0 0 0 1 0 1 2 1 1 0 0 0 0 1 0 1 0 0 0 0 0 0 0\n",
      " 0 0 0 0 0 1 0 0 0 0 0 1 0 0 0 0 2 0 0 1 0 0 0 0 1 0 0 1 0 1 1 1 1 0 0 1 1\n",
      " 1 0 2 1 2 1 0 0 0 0 1 2 1 2 0 0 0 0 0 0 0 2 0 2 1 0 1 0 1 0 2 0 0 2 0 1 0\n",
      " 0 0 0 0 0 0 1 0 1 0 1 0 0 1 1 1 0 1 2 0 0 0 1 2 0 0 2 0 0 1 1 0 1 0 1 0 0\n",
      " 0 0 0 0 0 0 1 1 0 0 0 0 0 0 1 0 0 0 0 1 2 0 0 0 0 1 0 1 0 1 0 0 0 1 0 0 1\n",
      " 1 0 0 0 0 0 1 0 0 1 0 0 0 0 0 0 0 0 0 1 0 0 0 0 0 0 2 2 1 0 0 0 1 0 0 0 0\n",
      " 1 0 0 0 0 0 0 0 0 0 0 0 0 0 0 1 0 0 0 1 0 0 1 0 0 0 0 0 0 0 0 0 0 0 1 0 1\n",
      " 0 1 1 0 0 0 0 0 0 1 1 0 1 0 2 0 0 0 0 1 1 2 0 2 0 1 0 0 0 0 0 0 0 1 0 0 0\n",
      " 0 1 0 0 0 0 1 0 0 0 0 0 0 2 0 0 0 0 0 0 0 0 1 0 0 0 0 0 0 0 1 0 0 1 0 0 0\n",
      " 1 0 0 1 0 1 0 0 1 0 0 2 0 0 0 1 0 0 0 0 1 0 0 0 0 0 0 1 0 0 2 1 0 0 0 0 2\n",
      " 0 1 0 1 0 1 2 1 1 0 1 0 0 0 1 0 0 0 0 1 1 1 0 0 2 0 0 0 0 0 0 0 0 0 1 1 0\n",
      " 0 0 0 0 0 0 0 2 0 0 0 0 0 1 0 0 2 0 0 0 0 0 2 0 0 0 1 1 1 0 0 0 0 0 2 0 0\n",
      " 0 0 0 0 2 0 0 0 0 1 0 0 0 0 1 0 0 0 0 0 1 1 0 0 0 0 2 0 2 0 0 1 0 0 0 0 0\n",
      " 2 0 0 0 0 0 0 0 0 0 0 0 0 0 0 0 0 0 0 0 1 1 1 1 0 0 1 0 0 0 0 0 0 1 1 0 0\n",
      " 0 0 0 0 0 1 0 0 0 0 0 1 1 0 1 0 1 0 1 0 0 0 0 0 0 0 0 0 2 0 0 0 1 0 0 0 0\n",
      " 1 0 0 1 0 0 0 0 0 0 0 0 0 1 0 2 1 0 0 0 0 0 1 1 0 2 0 1 0 0 0 0 0 0 2 0 0\n",
      " 0]\n"
     ]
    }
   ],
   "source": [
    "print(y_test1)"
   ]
  },
  {
   "cell_type": "markdown",
   "id": "13c08009-4448-4ff6-b225-fc9e267bdc06",
   "metadata": {},
   "source": [
    "#### Fitting multinomial logistic regression"
   ]
  },
  {
   "cell_type": "code",
   "execution_count": 8,
   "id": "5e6f63c6-99b4-4511-9195-9cd19497865e",
   "metadata": {},
   "outputs": [
    {
     "name": "stdout",
     "output_type": "stream",
     "text": [
      "Optimization terminated successfully.\n",
      "         Current function value: 0.695885\n",
      "         Iterations 7\n",
      "                          MNLogit Regression Results                          \n",
      "==============================================================================\n",
      "Dep. Variable:                      y   No. Observations:                  741\n",
      "Model:                        MNLogit   Df Residuals:                      737\n",
      "Method:                           MLE   Df Model:                            2\n",
      "Date:                Thu, 04 Apr 2024   Pseudo R-squ.:                 0.02219\n",
      "Time:                        21:23:42   Log-Likelihood:                -515.65\n",
      "converged:                       True   LL-Null:                       -527.35\n",
      "Covariance Type:            nonrobust   LLR p-value:                 8.291e-06\n",
      "==============================================================================\n",
      "       y=1       coef    std err          z      P>|z|      [0.025      0.975]\n",
      "------------------------------------------------------------------------------\n",
      "const         -0.9200      0.114     -8.085      0.000      -1.143      -0.697\n",
      "Sex_Male      -0.8681      0.196     -4.435      0.000      -1.252      -0.484\n",
      "------------------------------------------------------------------------------\n",
      "       y=2       coef    std err          z      P>|z|      [0.025      0.975]\n",
      "------------------------------------------------------------------------------\n",
      "const         -2.7689      0.250    -11.074      0.000      -3.259      -2.279\n",
      "Sex_Male       0.3302      0.328      1.006      0.315      -0.313       0.974\n",
      "==============================================================================\n",
      "AIC: 1039.3\n",
      "BIC: 1057.73\n"
     ]
    }
   ],
   "source": [
    "# Fit multinomial logistic regression (1 IV and DV)\n",
    "\n",
    "import statsmodels.api as sm\n",
    "\n",
    "# Test 1: Single Independent Variable (Sex) with Single Target Variable\n",
    "#add constant\n",
    "X_test1 = sm.add_constant(X_Sex)\n",
    "\n",
    "\n",
    "# Fit the multinomial logistic regression model\n",
    "model_test1 = sm.MNLogit(y_test1, X_test1.astype(float))  # Ensure all variables are float\n",
    "result_test1 = model_test1.fit()\n",
    "\n",
    "# Print the summary of the model\n",
    "print(result_test1.summary())\n",
    "\n",
    "# Get AIC and BIC\n",
    "aic = result_test1.aic\n",
    "bic = result_test1.bic\n",
    "\n",
    "print(\"AIC:\", round(aic, 2))\n",
    "print(\"BIC:\", round(bic, 2))\n"
   ]
  },
  {
   "cell_type": "markdown",
   "id": "c9f16956-fbd3-4687-9f22-4d0360591496",
   "metadata": {},
   "source": [
    "##### Ouput\n",
    "\n",
    "Coefficients:\n",
    "- The 'Sex_Male' row represents the coefficient for the predictor variable 'Sex_Male', indicating the effect of being male compared to being female on the log-odds of belonging to each category of 'y'.\n",
    "  \n",
    "- For the category 'y=1' (non-employed): The negative coefficient (-0.8681) for 'Sex_Male' indicates that being male (compared to being female, the reference category) decreases the log-odds of being non-employed (y=1). In other words, being male is associated with a lower likelihood of being non-employed compared to being female.\n",
    "  \n",
    "- For the category 'y=2' (unemployed): The positive coefficient (0.3302) for 'Sex_Male' suggests that being male (compared to being female, the reference category) increases the log-odds of being unemployed (y=2). However, this effect is not statistically significant at conventional significance levels (p > 0.05), meaning that there is insufficient evidence to conclude that gender significantly influences the likelihood of being unemployed in this model.\n",
    "\n",
    "Model comparison: \n",
    "- `AIC (Akaike Information Criterion)`: A measure of model fit that penalizes for model complexity. Lower values indicate better fi \n",
    "- `BIC (Bayesian Information Criterion)`: Similar to AIC but with a stronger penalty for model complexity. Again, lower values indicate better fit\n",
    "- `LLR p-value`: Indicates the statistical significance of the model compared to a model with no predictors (null model). In this case, the LLR p-value is very small, indicating that the model significantly improves the fit compared to the null model.\n",
    " "
   ]
  },
  {
   "cell_type": "code",
   "execution_count": 9,
   "id": "92d21378-41e6-4835-900e-1044a33daa13",
   "metadata": {},
   "outputs": [
    {
     "name": "stdout",
     "output_type": "stream",
     "text": [
      "Odds Ratio for Nonemployed(Sex_Male): 0.42\n",
      "Odds Ratio for Unemployed (Sex_Male): 1.39\n"
     ]
    }
   ],
   "source": [
    "import numpy as np\n",
    "\n",
    "# Coefficients for y=1 (Nonemployed)\n",
    "const_coef_y1 = -0.9200\n",
    "sex_male_coef_y1 = -0.8681\n",
    "\n",
    "# Coefficients for y=2 (Unemployed)\n",
    "const_coef_y2 = -2.7689\n",
    "sex_male_coef_y2 = 0.3302\n",
    "\n",
    "# Compute odds ratios\n",
    "odds_ratio_y1 = np.exp(sex_male_coef_y1)\n",
    "odds_ratio_y2 = np.exp(sex_male_coef_y2)\n",
    "\n",
    "print(\"Odds Ratio for Nonemployed(Sex_Male):\", round(odds_ratio_y1, 2))\n",
    "print(\"Odds Ratio for Unemployed (Sex_Male):\", round(odds_ratio_y2, 2))\n"
   ]
  },
  {
   "cell_type": "code",
   "execution_count": 10,
   "id": "0af34cfe-a4ac-419f-89bd-c4c020e2f3c6",
   "metadata": {},
   "outputs": [
    {
     "name": "stdout",
     "output_type": "stream",
     "text": [
      "Odds Ratio for y=1 (Sex_Male): 0.42\n",
      "95% CI for y=1 (Sex_Male): [0.29, 0.62]\n",
      "Odds Ratio for y=2 (Sex_Male): 1.39\n",
      "95% CI for y=2 (Sex_Male): [0.73, 2.65]\n"
     ]
    }
   ],
   "source": [
    "import numpy as np\n",
    "\n",
    "# Coefficients for y=1 (Nonemployed)\n",
    "const_coef_y1 = -0.9200\n",
    "sex_male_coef_y1 = -0.8681\n",
    "sex_male_std_err_y1 = 0.196  # Standard error for Sex_Male coefficient in y=1\n",
    "\n",
    "# Coefficients for y=2 (unemployed)\n",
    "const_coef_y2 = -2.7689\n",
    "sex_male_coef_y2 = 0.3302\n",
    "sex_male_std_err_y2 = 0.328  # Standard error for Sex_Male coefficient in y=2\n",
    "\n",
    "# Compute odds ratios\n",
    "odds_ratio_y1 = np.exp(sex_male_coef_y1)\n",
    "odds_ratio_y2 = np.exp(sex_male_coef_y2)\n",
    "\n",
    "# Compute 95% confidence intervals\n",
    "ci_low_y1 = np.exp(sex_male_coef_y1 - 1.96 * sex_male_std_err_y1)\n",
    "ci_high_y1 = np.exp(sex_male_coef_y1 + 1.96 * sex_male_std_err_y1)\n",
    "\n",
    "ci_low_y2 = np.exp(sex_male_coef_y2 - 1.96 * sex_male_std_err_y2)\n",
    "ci_high_y2 = np.exp(sex_male_coef_y2 + 1.96 * sex_male_std_err_y2)\n",
    "\n",
    "print(\"Odds Ratio for y=1 (Sex_Male):\", round(odds_ratio_y1, 2))\n",
    "print(\"95% CI for y=1 (Sex_Male): [{:.2f}, {:.2f}]\".format(ci_low_y1, ci_high_y1))\n",
    "\n",
    "print(\"Odds Ratio for y=2 (Sex_Male):\", round(odds_ratio_y2, 2))\n",
    "print(\"95% CI for y=2 (Sex_Male): [{:.2f}, {:.2f}]\".format(ci_low_y2, ci_high_y2))\n",
    "\n"
   ]
  },
  {
   "cell_type": "markdown",
   "id": "5497fdfd-07f1-4929-b163-fdcce6dee559",
   "metadata": {},
   "source": [
    "##### Output:\n",
    "\n",
    "For the category 'y=1' (non-employed):\n",
    "\n",
    "Odds Ratio: The odds ratio for 'Sex_Male' in category 'y=1' is 0.42. The odds of being non-employed (y=1) for males are 0.42 times compared to females. Being male is associated with 58% lower likelihood of being non-employed compared to being female.\n",
    "95% Confidence Interval (CI): 95% CI for the odds ratio of 'Sex_Male' in category 'y=1' is [0.29, 0.62]. Since the interval does not include 1, suggests that the effect of gender on non-employment is statistically significant.\n",
    "\n",
    "For the category 'y=2' (unemployed):\n",
    "Odds Ratio: The odds ratio for 'Sex_Male' in category 'y=2' is 1.39. The odds of being unemployed (y=2) for males are 1.39 times the odds for females, holding other variables constant. Being male is associated with 39% higher likelihood of being unemployed compared to being female.\n",
    "95% Confidence Interval (CI): 95% CI for the odds ratio of 'Sex_Male' in category 'y=2' is [0.73, 2.65]. Since the interval includes 1, suggests that the effect of gender on unemployment is not statistically significant at conventional significance levels."
   ]
  },
  {
   "cell_type": "code",
   "execution_count": 11,
   "id": "6074e9e4-6a7d-4fa6-84fa-aa86bbaace19",
   "metadata": {},
   "outputs": [
    {
     "name": "stdout",
     "output_type": "stream",
     "text": [
      "     Sex_Female\n",
      "0         False\n",
      "1         False\n",
      "2         False\n",
      "3         False\n",
      "4         False\n",
      "..          ...\n",
      "736       False\n",
      "737       False\n",
      "738        True\n",
      "739       False\n",
      "740       False\n",
      "\n",
      "[741 rows x 1 columns]\n"
     ]
    }
   ],
   "source": [
    "#Changing reference group of Sex to Male\n",
    "# Convert X to dummy variables\n",
    "X_test2 = pd.get_dummies(work, columns=['Sex'], drop_first=False)\n",
    "X_Sexf = X_test2[['Sex_Female']]\n",
    "print(X_Sexf)"
   ]
  },
  {
   "cell_type": "code",
   "execution_count": 12,
   "id": "28b2a7f3-1725-4ac3-bc31-234d059054e0",
   "metadata": {},
   "outputs": [
    {
     "name": "stdout",
     "output_type": "stream",
     "text": [
      "Optimization terminated successfully.\n",
      "         Current function value: 0.695885\n",
      "         Iterations 7\n",
      "                          MNLogit Regression Results                          \n",
      "==============================================================================\n",
      "Dep. Variable:                      y   No. Observations:                  741\n",
      "Model:                        MNLogit   Df Residuals:                      737\n",
      "Method:                           MLE   Df Model:                            2\n",
      "Date:                Thu, 04 Apr 2024   Pseudo R-squ.:                 0.02219\n",
      "Time:                        21:23:42   Log-Likelihood:                -515.65\n",
      "converged:                       True   LL-Null:                       -527.35\n",
      "Covariance Type:            nonrobust   LLR p-value:                 8.291e-06\n",
      "==============================================================================\n",
      "       y=1       coef    std err          z      P>|z|      [0.025      0.975]\n",
      "------------------------------------------------------------------------------\n",
      "const         -1.7881      0.159    -11.225      0.000      -2.100      -1.476\n",
      "Sex_Female     0.8681      0.196      4.435      0.000       0.484       1.252\n",
      "------------------------------------------------------------------------------\n",
      "       y=2       coef    std err          z      P>|z|      [0.025      0.975]\n",
      "------------------------------------------------------------------------------\n",
      "const         -2.4387      0.213    -11.458      0.000      -2.856      -2.022\n",
      "Sex_Female    -0.3302      0.328     -1.006      0.315      -0.974       0.313\n",
      "==============================================================================\n",
      "AIC: 1039.3\n",
      "BIC: 1057.73\n"
     ]
    }
   ],
   "source": [
    "import statsmodels.api as sm\n",
    "\n",
    "# Test 1: Single Independent Variable with Single Target Variable\n",
    "#add constant\n",
    "X_test2 = sm.add_constant(X_Sexf)\n",
    "\n",
    "# Fit the multinomial logistic regression model\n",
    "model_test2 = sm.MNLogit(y_test1, X_test2.astype(float))  # Ensure all variables are float\n",
    "result_test2 = model_test2.fit()\n",
    "\n",
    "# Print the summary of the model\n",
    "print(result_test2.summary())\n",
    "\n",
    "# Get AIC and BIC\n",
    "aic = result_test2.aic\n",
    "bic = result_test2.bic\n",
    "\n",
    "print(\"AIC:\", round(aic, 2))\n",
    "print(\"BIC:\", round(bic, 2))\n"
   ]
  },
  {
   "cell_type": "code",
   "execution_count": 13,
   "id": "a5c7dddb-6bba-43e6-8405-9feb013de15f",
   "metadata": {},
   "outputs": [],
   "source": [
    "### Adding more IVs in the model"
   ]
  },
  {
   "cell_type": "code",
   "execution_count": 14,
   "id": "1b1244f7-746d-4555-8b95-a35b14a0d3cc",
   "metadata": {},
   "outputs": [
    {
     "name": "stdout",
     "output_type": "stream",
     "text": [
      "      id   Employment  Sex_Male  Marital_Single  Marital_Widowed/ Divorced  \\\n",
      "0      1     Employed      True           False                      False   \n",
      "1      2  Nonemployed      True           False                      False   \n",
      "2      3     Employed      True           False                      False   \n",
      "3      4     Employed      True           False                      False   \n",
      "4      5     Employed      True           False                      False   \n",
      "..   ...          ...       ...             ...                        ...   \n",
      "736  737     Employed      True           False                      False   \n",
      "737  738   Unemployed      True            True                      False   \n",
      "738  739     Employed     False            True                      False   \n",
      "739  740     Employed      True           False                      False   \n",
      "740  741     Employed      True           False                       True   \n",
      "\n",
      "     Age_45-54  Age_55-64  \n",
      "0        False       True  \n",
      "1        False      False  \n",
      "2        False      False  \n",
      "3        False       True  \n",
      "4        False       True  \n",
      "..         ...        ...  \n",
      "736       True      False  \n",
      "737      False      False  \n",
      "738      False      False  \n",
      "739      False      False  \n",
      "740       True      False  \n",
      "\n",
      "[741 rows x 7 columns]\n"
     ]
    }
   ],
   "source": [
    "# Convert selected columns to dummy variables\n",
    "columns_to_convert = ['Sex', 'Marital', 'Age']\n",
    "X_test3 = pd.get_dummies(work, columns=columns_to_convert, drop_first=True)\n",
    "print(X_test3)"
   ]
  },
  {
   "cell_type": "code",
   "execution_count": 15,
   "id": "9630b7c6-d0a4-4c12-b23a-69ce9d27e2ac",
   "metadata": {},
   "outputs": [
    {
     "name": "stdout",
     "output_type": "stream",
     "text": [
      "     Sex_Male  Marital_Single  Marital_Widowed/ Divorced  Age_45-54  Age_55-64\n",
      "0        True           False                      False      False       True\n",
      "1        True           False                      False      False      False\n",
      "2        True           False                      False      False      False\n",
      "3        True           False                      False      False       True\n",
      "4        True           False                      False      False       True\n",
      "..        ...             ...                        ...        ...        ...\n",
      "736      True           False                      False       True      False\n",
      "737      True            True                      False      False      False\n",
      "738     False            True                      False      False      False\n",
      "739      True           False                      False      False      False\n",
      "740      True           False                       True       True      False\n",
      "\n",
      "[741 rows x 5 columns]\n"
     ]
    }
   ],
   "source": [
    "# Drop 'id' and 'Employment' columns from X_test1\n",
    "X_test3 = X_test3.drop(['id', 'Employment'], axis=1)\n",
    "print(X_test3)"
   ]
  },
  {
   "cell_type": "code",
   "execution_count": 16,
   "id": "4423b4e8",
   "metadata": {},
   "outputs": [
    {
     "name": "stdout",
     "output_type": "stream",
     "text": [
      "Optimization terminated successfully.\n",
      "         Current function value: 0.646842\n",
      "         Iterations 7\n",
      "                          MNLogit Regression Results                          \n",
      "==============================================================================\n",
      "Dep. Variable:                      y   No. Observations:                  741\n",
      "Model:                        MNLogit   Df Residuals:                      729\n",
      "Method:                           MLE   Df Model:                           10\n",
      "Date:                Thu, 04 Apr 2024   Pseudo R-squ.:                 0.09110\n",
      "Time:                        21:23:42   Log-Likelihood:                -479.31\n",
      "converged:                       True   LL-Null:                       -527.35\n",
      "Covariance Type:            nonrobust   LLR p-value:                 3.305e-16\n",
      "=============================================================================================\n",
      "                      y=1       coef    std err          z      P>|z|      [0.025      0.975]\n",
      "---------------------------------------------------------------------------------------------\n",
      "const                        -1.2499      0.170     -7.357      0.000      -1.583      -0.917\n",
      "Sex_Male                     -0.9574      0.207     -4.619      0.000      -1.364      -0.551\n",
      "Marital_Single                0.0700      0.258      0.272      0.786      -0.435       0.575\n",
      "Marital_Widowed/ Divorced     0.3678      0.259      1.420      0.156      -0.140       0.876\n",
      "Age_45-54                    -0.3805      0.281     -1.355      0.176      -0.931       0.170\n",
      "Age_55-64                     1.1645      0.218      5.346      0.000       0.738       1.591\n",
      "---------------------------------------------------------------------------------------------\n",
      "                      y=2       coef    std err          z      P>|z|      [0.025      0.975]\n",
      "---------------------------------------------------------------------------------------------\n",
      "const                        -3.7342      0.399     -9.360      0.000      -4.516      -2.952\n",
      "Sex_Male                      0.5509      0.341      1.617      0.106      -0.117       1.219\n",
      "Marital_Single                1.7707      0.403      4.392      0.000       0.980       2.561\n",
      "Marital_Widowed/ Divorced     1.8391      0.444      4.143      0.000       0.969       2.709\n",
      "Age_45-54                    -0.2907      0.419     -0.694      0.488      -1.112       0.531\n",
      "Age_55-64                    -0.2116      0.458     -0.462      0.644      -1.110       0.687\n",
      "=============================================================================================\n",
      "AIC: 982.62\n",
      "BIC: 1037.92\n"
     ]
    }
   ],
   "source": [
    "import statsmodels.api as sm\n",
    "\n",
    "# Test 1: Single Independent Variable with Single Target Variable\n",
    "#add constant\n",
    "X_test3 = sm.add_constant(X_test3)\n",
    "\n",
    "\n",
    "# Fit the multinomial logistic regression model\n",
    "model_test3 = sm.MNLogit(y_test1, X_test3.astype(float))  # Ensure all variables are float\n",
    "result_test3 = model_test3.fit()\n",
    "\n",
    "\n",
    "# Get the summary of the model\n",
    "result_summary = result_test3.summary()\n",
    "\n",
    "\n",
    "# Print the summary of the model\n",
    "print(result_test3.summary())\n",
    "\n",
    "# Get AIC and BIC\n",
    "aic = result_test3.aic\n",
    "bic = result_test3.bic\n",
    "\n",
    "print(\"AIC:\", round(aic, 2))\n",
    "print(\"BIC:\", round(bic, 2))\n"
   ]
  },
  {
   "cell_type": "markdown",
   "id": "8acce693-b509-4145-9437-42b9d778ee79",
   "metadata": {},
   "source": [
    "Example of interpretation for exposure/independent variables that has more than two categories (e.g, age group):\n",
    "\n",
    "Interpretation for 'y=1' (non-employed):\n",
    "For the 'Age_45-54' group, the coefficient is -0.3805. Individuals aged 45-54 have lower log-odds of being non-employed compared to the reference group (youngest age group, 44 and below), given other variables constant. This effect is not statistically significant p > 0.05.\n",
    "For the 'Age_55-64' group, the coefficient is 1.1645. Individuals aged 55-64 have higher log-odds of being non-employed compared to the reference group, and this effect is statistically significant (p < 0.001).\n",
    "\n",
    "Interpretation for 'y=2' (unemployed):\n",
    "For both the 'Age_45-54' and 'Age_55-64' groups, the coefficients are negative (-0.2907 and -0.2116, respectively), indicating that individuals in these age groups have lower log-odds of being unemployed compared to the reference group. However, these effects are not statistically significant at conventional significance levels (p > 0.05).\n",
    "\n"
   ]
  },
  {
   "cell_type": "code",
   "execution_count": 17,
   "id": "d99d0689-29a8-4a54-908a-894d2cddc7fc",
   "metadata": {},
   "outputs": [
    {
     "name": "stdout",
     "output_type": "stream",
     "text": [
      "Change in AIC: -56.68\n",
      "Change in BIC: -19.82\n"
     ]
    }
   ],
   "source": [
    "# Comparing model 2 and model 1 using AIC, BIC\n",
    "\n",
    "# Import the necessary libraries\n",
    "from statsmodels.stats.anova import anova_lm\n",
    "\n",
    "# Calculate the differences\n",
    "delta_aic = result_test3.aic - result_test1.aic\n",
    "delta_bic = result_test3.bic - result_test1.bic\n",
    "\n",
    "print(\"Change in AIC:\", round(delta_aic, 2))\n",
    "print(\"Change in BIC:\", round(delta_bic, 2))\n"
   ]
  },
  {
   "cell_type": "code",
   "execution_count": 18,
   "id": "35c415ce-73f9-40aa-9ea9-b99b6c5e6902",
   "metadata": {},
   "outputs": [
    {
     "name": "stdout",
     "output_type": "stream",
     "text": [
      "Likelihood Ratio Test Results\n",
      "Test statistic: 72.68\n",
      "Degrees of Freedom: 8.0\n",
      "P-value: 1.4345191701181648e-12\n"
     ]
    }
   ],
   "source": [
    "# Import the necessary libraries\n",
    "\n",
    "from scipy.stats import chi2\n",
    "\n",
    "# Assume result_test1 is the previous model and result_test3 is the current model\n",
    "\n",
    "# Compute the log-likelihoods for the two models\n",
    "ll_reduced = result_test1.llf\n",
    "ll_full = result_test3.llf\n",
    "\n",
    "# Compute the likelihood ratio test statistic\n",
    "lrt_statistic = -2 * (ll_reduced - ll_full)\n",
    "\n",
    "# Degrees of freedom is equal to the difference in the number of parameters between the two models\n",
    "df = result_test3.df_model - result_test1.df_model\n",
    "\n",
    "# Then compare lrt_statistic to the chi-square distribution with df degrees of freedom to get the p-value\n",
    "# Calculate the p-value *cdf - Cumulative Distribution Function.\n",
    "p_value = 1 - chi2.cdf(lrt_statistic, df)\n",
    "\n",
    "# Print the results\n",
    "print(\"Likelihood Ratio Test Results\")\n",
    "print(\"Test statistic:\", round(lrt_statistic, 2))\n",
    "print(\"Degrees of Freedom:\", df)\n",
    "print(\"P-value:\", p_value)"
   ]
  },
  {
   "cell_type": "markdown",
   "id": "d5d9d68b-a9a7-4660-bb55-0cb23609152f",
   "metadata": {},
   "source": [
    "Since the p-value is very small (< 0.05), we reject the null hypothesis.\n",
    "The full model provides a significantly better fit to the data compared to the reduced model.\n",
    "Including the additional variables in the full model improves its ability to explain the variability in the response variable compared to the reduced model."
   ]
  },
  {
   "cell_type": "code",
   "execution_count": null,
   "id": "79ceeee0-a397-4e55-9c77-fd2f0cc0af53",
   "metadata": {},
   "outputs": [],
   "source": []
  },
  {
   "cell_type": "code",
   "execution_count": null,
   "id": "32fe03e9-38e2-43b5-a4c5-4d1456603d33",
   "metadata": {},
   "outputs": [],
   "source": []
  }
 ],
 "metadata": {
  "kernelspec": {
   "display_name": "Python 3 (ipykernel)",
   "language": "python",
   "name": "python3"
  },
  "language_info": {
   "codemirror_mode": {
    "name": "ipython",
    "version": 3
   },
   "file_extension": ".py",
   "mimetype": "text/x-python",
   "name": "python",
   "nbconvert_exporter": "python",
   "pygments_lexer": "ipython3",
   "version": "3.11.7"
  }
 },
 "nbformat": 4,
 "nbformat_minor": 5
}
