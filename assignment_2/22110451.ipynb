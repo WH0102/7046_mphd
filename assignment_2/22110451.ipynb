{
 "cells": [
  {
   "cell_type": "markdown",
   "metadata": {},
   "source": [
    "# Assignment 2 for MQB7046: Modelling Public Health Data\n",
    "Name: Chin Wei Hong </br>\n",
    "Matrix Number: 22110451 </br>\n",
    "\n",
    "__Question:__\n",
    "\n",
    "Data were collected for 1,200 men and women in a study on mental health. In this cross-sectional study, all participants were asked a series of 20 questions about depressive symptoms, and a sum score of depressive symptoms was constructed.All other variables were also collected during interviews in the participants’ homes.The dataset consists of the following information:\n",
    "\n",
    "|Variable|Coding|\n",
    "|:------:|:----:|\n",
    "|age|age in years|\n",
    "|sex|sex: 1:\"male\", 2:\"female\"|\n",
    "|educ|education: 1:\"primary\", 2:\"vocational\", 3:\"secondary\", 4:\"university\"|\n",
    "|married|marital status: 0:\"married\", 1:\"unmarried\"|\n",
    "|deprivation|material deprivation: 1:\"yes\", 0:\"no\"|\n",
    "|bmi|body mass index in kg/m2|\n",
    "|sbp|systolic blood pressure in mmHg|\n",
    "|alcohol|problem drinking: 1:\"yes\", 0:\"no\"|\n",
    "|smoke|current smoking: 1:\"yes\", 0:\"no\"|\n",
    "|depscore|depression score: score range from 0 - 60|\n",
    "\n",
    "Score of depressive symptoms (CES-D score) was constructed from 20 questions. The answers for each question are on a scale of 0-3, and the overall score ranges from 0-60. Score 0 means no depressive symptoms, score 60 means high score of depressive symptoms. Based on evidence from previous studies in various populations, respondents can be categorised into the following groups: </br>\n",
    "a) not depressed (0–9 points), </br>\n",
    "b) mildly depressed (10–15 points), </br>\n",
    "c) moderately depressed (16–24 points), or </br>\n",
    "d) severely depressed (more than 25 points). \n",
    "\n",
    "In other studies, a score of less than 16 indicates no depression, 16 and more indicates a clinically relevant depression.\n",
    "The investigators are interested in the relationship between material deprivation of individuals and depression. It has been hypothesized that people who are more deprived are more likely to develop depression/more depressive symptoms than people in better material circumstances.\n",
    "***\n",
    "#### Instruction\n",
    "Perform any relevant analyses and write a report that describe your analysis steps and summarise your findings.\n",
    "1. State the related research question, objective and hypothesis based on the information provided above.\n",
    "2. Summarise all variables available in the dataset.\n",
    "3. Based on the information provided in (1), perform any required analyses to facilitate drawing relevant conclusions. Undertake any necessary data cleaning and preprocessing as needed. Use appropriate statistical methods or techniques and specify any assumptions necessary for the analysis. If warranted, provide justification for the chosen approach.\n",
    "    1. Decide how you would like to analyse your dependent variable (continuous or categorical).\n",
    "    2. Evaluate the association between possible risk factors and depression using non-regression and regression analysis.\n",
    "    3. Also decide what variables that you need to consider as possible confounders or effect modifiers? If yes/no, provide your justifications\n",
    "    4. Perform any additional analysis required to test these assumptions.\n",
    "4. Summarise your results in appropriate tabular format and comment on your findings. State your conclusion."
   ]
  },
  {
   "cell_type": "code",
   "execution_count": 1,
   "metadata": {},
   "outputs": [
    {
     "name": "stdout",
     "output_type": "stream",
     "text": [
      "Display the head of dataframe to ensure the data properly loaded\n",
      "+-------+-----+----------+------+-------------+-------+--------+---------+-------+---------+\n",
      "|  age  | sex | depscore | educ | deprivation |  bmi  |  sbp   | alcohol | smoke | married |\n",
      "+-------+-----+----------+------+-------------+-------+--------+---------+-------+---------+\n",
      "| 51.55 | 2.0 |   15.0   | 4.0  |     0.0     | 34.13 | 177.33 |   0.0   |  0.0  |   0.0   |\n",
      "| 51.93 | 2.0 |   9.0    | 3.0  |     0.0     | 30.61 | 176.0  |   0.0   |  0.0  |   0.0   |\n",
      "| 51.19 | 2.0 |   11.0   | 4.0  |     0.0     | 30.64 | 188.67 |   0.0   |  0.0  |   1.0   |\n",
      "| 52.3  | 2.0 |   9.0    | 3.0  |     0.0     | 23.9  | 150.67 |   0.0   |  0.0  |   0.0   |\n",
      "| 59.33 | 1.0 |   13.0   | 3.0  |     0.0     | 33.34 | 138.67 |   0.0   |  0.0  |   0.0   |\n",
      "+-------+-----+----------+------+-------------+-------+--------+---------+-------+---------+\n",
      "Display the information of the dataframe\n",
      "<class 'pandas.core.frame.DataFrame'>\n",
      "RangeIndex: 1203 entries, 0 to 1202\n",
      "Data columns (total 10 columns):\n",
      " #   Column       Non-Null Count  Dtype  \n",
      "---  ------       --------------  -----  \n",
      " 0   age          1203 non-null   float64\n",
      " 1   sex          1203 non-null   int64  \n",
      " 2   depscore     1203 non-null   int64  \n",
      " 3   educ         1203 non-null   int64  \n",
      " 4   deprivation  1203 non-null   int64  \n",
      " 5   bmi          1193 non-null   float64\n",
      " 6   sbp          1198 non-null   float64\n",
      " 7   alcohol      1203 non-null   int64  \n",
      " 8   smoke        1203 non-null   int64  \n",
      " 9   married      1203 non-null   int64  \n",
      "dtypes: float64(3), int64(7)\n",
      "memory usage: 94.1 KB\n",
      "None\n"
     ]
    }
   ],
   "source": [
    "import sys\n",
    "import os\n",
    "sys.path.append(os.path.dirname(os.getcwd()))\n",
    "\n",
    "import pandas as pd\n",
    "import numpy as np\n",
    "import wh0102 as mphd\n",
    "\n",
    "# Prepare the value information for each categorical data\n",
    "data_dictionary = {\n",
    "    \"sex\": {1:\"male\", 2:\"female\"},\n",
    "    \"educ\":{1:\"primary\", 2:\"vocational\", 3:\"secondary\", 4:\"university\"},\n",
    "    \"married\":{0:\"married\", 1:\"unmarried\"},\n",
    "    \"deprivation\":{1:\"yes\", 0:\"no\"},\n",
    "    \"alcohol\":{1:\"yes\", 0:\"no\"},\n",
    "    \"smoke\":{1:\"yes\", 0:\"no\"},\n",
    "}\n",
    "\n",
    "# Prepare the depression score categorical information with {type:[[bins], [lables]]}\n",
    "depscore_category = {2:[[0, 16, np.inf], [\"no_depression\", \"clinically_relevant_depression\"]],\n",
    "                     4:[[0, 10, 16, 25, np.inf], [\"no_depression\", \"mild_depress\", \"moderate_depress\", \"severe_depress\"]]}\n",
    "\n",
    "# Load the dataset\n",
    "df = pd.read_csv(\"connass2.csv\")\n",
    "\n",
    "print(\"Display the head of dataframe to ensure the data properly loaded\")\n",
    "print(df.head().to_markdown(tablefmt = \"pretty\", index = False))\n",
    "\n",
    "print(\"Display the information of the dataframe\")\n",
    "print(df.info())"
   ]
  },
  {
   "cell_type": "code",
   "execution_count": 2,
   "metadata": {},
   "outputs": [
    {
     "name": "stdout",
     "output_type": "stream",
     "text": [
      "The column of sex is having 1 (0.08%) rows more 1 unique value than what {1: 'male', 2: 'female'}:\n",
      "+-----+------+-----+----------+------+-------------+-------+--------+---------+-------+---------+\n",
      "|     | age  | sex | depscore | educ | deprivation |  bmi  |  sbp   | alcohol | smoke | married |\n",
      "+-----+------+-----+----------+------+-------------+-------+--------+---------+-------+---------+\n",
      "| 531 | 52.7 |  5  |    3     |  2   |      1      | 22.14 | 111.33 |    1    |   0   |    0    |\n",
      "+-----+------+-----+----------+------+-------------+-------+--------+---------+-------+---------+\n"
     ]
    }
   ],
   "source": [
    "# Convert the dataframe for easier descriptive analysis\n",
    "data = mphd.categorical_data.reverse_encode(df, json_dict=data_dictionary)"
   ]
  },
  {
   "cell_type": "markdown",
   "metadata": {},
   "source": [
    "__intepretation__:\n",
    "since only 1 row (0.08%) is affected and the sex = 5 most likely due to missing at random/ wrongly key in, therefore it is safe for us to discard the row of sex == 5"
   ]
  },
  {
   "cell_type": "code",
   "execution_count": 3,
   "metadata": {},
   "outputs": [],
   "source": [
    "# Drop the row that contain sex == 5\n",
    "df = df.query(\"sex != 5\")\n",
    "data = data.query(\"sex != 5\")"
   ]
  },
  {
   "cell_type": "code",
   "execution_count": 6,
   "metadata": {},
   "outputs": [
    {
     "name": "stdout",
     "output_type": "stream",
     "text": [
      "Descriptive Analysis for independent variables:\n",
      "Descriptive Analysis on sex\n",
      "+--------+--------+------------+\n",
      "|  sex   | count  | percentage |\n",
      "+--------+--------+------------+\n",
      "| female | 571.0  |    47.5    |\n",
      "|  male  | 631.0  |    52.5    |\n",
      "|  All   | 1202.0 |   100.0    |\n",
      "+--------+--------+------------+\n",
      "----------------------------------------------------------------\n",
      "Descriptive Analysis on educ\n",
      "+------------+--------+------------+\n",
      "|    educ    | count  | percentage |\n",
      "+------------+--------+------------+\n",
      "|  primary   | 162.0  |   13.48    |\n",
      "| secondary  | 470.0  |    39.1    |\n",
      "| university | 374.0  |   31.11    |\n",
      "| vocational | 196.0  |   16.31    |\n",
      "|    All     | 1202.0 |   100.0    |\n",
      "+------------+--------+------------+\n",
      "----------------------------------------------------------------\n",
      "Descriptive Analysis on married\n",
      "+-----------+--------+------------+\n",
      "|  married  | count  | percentage |\n",
      "+-----------+--------+------------+\n",
      "|  married  | 919.0  |   76.46    |\n",
      "| unmarried | 283.0  |   23.54    |\n",
      "|    All    | 1202.0 |   100.0    |\n",
      "+-----------+--------+------------+\n",
      "----------------------------------------------------------------\n",
      "Descriptive Analysis on deprivation\n",
      "+-------------+--------+------------+\n",
      "| deprivation | count  | percentage |\n",
      "+-------------+--------+------------+\n",
      "|     no      | 989.0  |   82.28    |\n",
      "|     yes     | 213.0  |   17.72    |\n",
      "|     All     | 1202.0 |   100.0    |\n",
      "+-------------+--------+------------+\n",
      "----------------------------------------------------------------\n",
      "Descriptive Analysis on alcohol\n",
      "+---------+--------+------------+\n",
      "| alcohol | count  | percentage |\n",
      "+---------+--------+------------+\n",
      "|   no    | 956.0  |   79.53    |\n",
      "|   yes   | 246.0  |   20.47    |\n",
      "|   All   | 1202.0 |   100.0    |\n",
      "+---------+--------+------------+\n",
      "----------------------------------------------------------------\n",
      "Descriptive Analysis on smoke\n",
      "+-------+--------+------------+\n",
      "| smoke | count  | percentage |\n",
      "+-------+--------+------------+\n",
      "|  no   | 951.0  |   79.12    |\n",
      "|  yes  | 251.0  |   20.88    |\n",
      "|  All  | 1202.0 |   100.0    |\n",
      "+-------+--------+------------+\n",
      "----------------------------------------------------------------\n"
     ]
    }
   ],
   "source": [
    "# Descriptive Analysis on categorical data\n",
    "chi2_positive_df, chi2_negative_df = mphd.categorical_data.categorical_descriptive_analysis(data, \n",
    "                                                                                            independent_variables = list(data_dictionary.keys()), \n",
    "                                                                                            dependent_variables = None)"
   ]
  },
  {
   "cell_type": "code",
   "execution_count": null,
   "metadata": {},
   "outputs": [],
   "source": [
    "# Deal with missing data\n",
    "print(\"Columns with missing data:\")\n",
    "missing_data_summary = pd.DataFrame(data.isnull().sum()[df.isnull().sum() > 0]).rename(columns = {0:\"count\"})\n",
    "\n",
    "print(missing_data_summary.to_markdown(tablefmt = \"pretty\"))\n",
    "missing_data_columns = data.isnull().sum()[df.isnull().sum() > 0].index\n",
    "data.query(\" | \".join([f\"{column}.isnull()\" for column in missing_data_columns]))\n",
    "# data.loc[(data.loc[:,\"bmi\"].isnull() | data.loc[:,\"sbp\"].isnull())]\n",
    "# mphd.continous_data.descriptive_analysis(df = )\n",
    "print(data.loc[:,(\"age\", \"depscore\", \"bmi\", \"sbp\")].corr().round(4).to_markdown(tablefmt = \"pretty\"))"
   ]
  },
  {
   "cell_type": "code",
   "execution_count": null,
   "metadata": {},
   "outputs": [],
   "source": [
    "# Continous data descriptive analysis\n",
    "continous_descriptive_df = mphd.continous_data.descriptive_analysis(df = data.loc[~(data.loc[:,\"bmi\"].isnull() | data.loc[:,\"sbp\"].isnull())])"
   ]
  },
  {
   "cell_type": "code",
   "execution_count": null,
   "metadata": {},
   "outputs": [],
   "source": [
    "df.loc[:,\"dep_2\"] = pd.cut(df.loc[:,\"depscore\"], bins = depscore_category[2][0], labels=depscore_category[2][1])\n",
    "df.loc[:,\"dep_4\"] = pd.cut(df.loc[:,\"depscore\"], bins = depscore_category[4][0], labels=depscore_category[4][1])\n",
    "df"
   ]
  },
  {
   "cell_type": "code",
   "execution_count": null,
   "metadata": {},
   "outputs": [],
   "source": []
  },
  {
   "cell_type": "code",
   "execution_count": null,
   "metadata": {},
   "outputs": [],
   "source": [
    "df.query(\"bmi.isnull() | sbp.isnull()\")"
   ]
  },
  {
   "cell_type": "code",
   "execution_count": null,
   "metadata": {},
   "outputs": [],
   "source": [
    "mphd.categorical_data.categorical_descriptive_analysis(df, independent_variables = list(data_dictionary.keys()), dependent_variables = None)"
   ]
  },
  {
   "cell_type": "code",
   "execution_count": null,
   "metadata": {},
   "outputs": [],
   "source": []
  }
 ],
 "metadata": {
  "kernelspec": {
   "display_name": ".venv",
   "language": "python",
   "name": "python3"
  },
  "language_info": {
   "codemirror_mode": {
    "name": "ipython",
    "version": 3
   },
   "file_extension": ".py",
   "mimetype": "text/x-python",
   "name": "python",
   "nbconvert_exporter": "python",
   "pygments_lexer": "ipython3",
   "version": "3.12.3"
  }
 },
 "nbformat": 4,
 "nbformat_minor": 2
}
