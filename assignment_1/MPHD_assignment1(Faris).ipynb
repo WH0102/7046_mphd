{
 "cells": [
  {
   "cell_type": "markdown",
   "metadata": {},
   "source": [
    "# MQB7046 MODELLING PUBLIC HEALTH DATA\n",
    "## ASSIGNMENT 1\n",
    "\n",
    "1. Please complete your assignment and submit by 24 March 2024 (Sunday) 5pm.\n",
    "2. Submit your notebook (.ipynb) in the UM spectrum. \n",
    "3. You can work either work independently or in a group of two. \n"
   ]
  },
  {
   "cell_type": "markdown",
   "metadata": {},
   "source": [
    "### Exercise 1\n",
    "* Create two number variables to store a patients clinical measurements\n",
    "    * Height was 1.82 m\n",
    "    * Weight was 88.2 kg\n",
    "* Calculate the BMI\n",
    "* Use the round() function to round of the result to 2 decimals\n",
    "    * If needed use help(round) to learn how to use this function\n",
    "* Print the BMI and consider if the patient is obese."
   ]
  },
  {
   "cell_type": "code",
   "execution_count": 21,
   "metadata": {},
   "outputs": [
    {
     "name": "stdout",
     "output_type": "stream",
     "text": [
      "BMI = 26.63\n",
      "Not obese\n"
     ]
    }
   ],
   "source": [
    "# Step 1: Create variables\n",
    "ht = 1.82\n",
    "wt = 88.2\n",
    "\n",
    "# Step 2: Calculate BMI\n",
    "bmi = wt / (ht ** 2)\n",
    "\n",
    "# Step 3: Round the BMI\n",
    "bmi_round = round(bmi, 2)\n",
    "\n",
    "# Step 4: Print BMI and obesity status\n",
    "print(\"BMI =\", bmi_round)\n",
    "if bmi_round >= 30:\n",
    "    print(\"Obese\")\n",
    "else:\n",
    "    print(\"Not obese\")"
   ]
  },
  {
   "cell_type": "markdown",
   "metadata": {},
   "source": [
    "### Exercise 2\n",
    "* Using the build in string function to replace __z__ with __l__ and __b__ with __e__ in the string: _\"you arb doing bxtrbmbzy wbzz\"_\n",
    "* Finally apply a function to capitalise the sentence"
   ]
  },
  {
   "cell_type": "code",
   "execution_count": 16,
   "metadata": {},
   "outputs": [
    {
     "name": "stdout",
     "output_type": "stream",
     "text": [
      "You are doing extremely well\n"
     ]
    }
   ],
   "source": [
    "# Step 1: Define the original string\n",
    "ori_str = \"you arb doing bxtrbmbzy wbzz\"\n",
    "\n",
    "# Step 2: Replace characters\n",
    "mod_str = ori_str.replace('z', 'l').replace('b', 'e')\n",
    "\n",
    "# Step 3: Capitalize the sentence\n",
    "fin_str = mod_str.capitalize()\n",
    "\n",
    "# Step 4: Print the result\n",
    "print(fin_str)"
   ]
  },
  {
   "cell_type": "markdown",
   "metadata": {},
   "source": [
    "### Exercise 3\n",
    "* Your task is to create a Python program to convert Celsius temperatures to Fahrenheit. You can use a mixture of functions, for example, map() or lambda to achieve the desired result. You can perform the following steps.\n",
    "  * Define a named function called _\"celsius_to_fahrenheit\"_ that takes a Celsius temperature as input and returns the equivalent temperature in Fahenheit.\n",
    "  * Define a list named _\"celsius\"_ containing temperature values in Celcius.\n",
    "  * Use the map() function along with the named function _\"celsius_to_fahrenheit\"_ to convert each Celsius temperature to Fahrenheit.\n",
    "  * Store the converted temperatures in a new list named  _\"fahrenheit\"_.\n",
    "  * \n",
    "Print both the original Celsius temperatures and the converted Fahrenheit temperatures."
   ]
  },
  {
   "cell_type": "code",
   "execution_count": 41,
   "metadata": {},
   "outputs": [
    {
     "name": "stdout",
     "output_type": "stream",
     "text": [
      "Celsius temperatures: [0, 10, 20, 30, 40, 50]\n",
      "Fahrenheit temperatures: [32.0, 50.0, 68.0, 86.0, 104.0, 122.0]\n"
     ]
    }
   ],
   "source": [
    "# Step 1: Define the conversion function\n",
    "def celsius_to_fahrenheit(c):\n",
    "    return c * 9/5 + 32\n",
    "\n",
    "# Step 2: Define the list of Celsius temperatures\n",
    "celsius = [0, 10, 20, 30, 40, 50]\n",
    "\n",
    "# Step 3: Convert Celsius to Fahrenheit\n",
    "fahrenheit = list(map(celsius_to_fahrenheit, celsius))\n",
    "\n",
    "# Step 4: Print the results\n",
    "print(\"Celsius temperatures:\", celsius)\n",
    "print(\"Fahrenheit temperatures:\", fahrenheit)"
   ]
  },
  {
   "cell_type": "markdown",
   "metadata": {},
   "source": [
    "### Exercise 4\n",
    "* Using the input function write a program that asks for a patient's weight in kg.\n",
    "* Divide the weight with an appropriate factor to get the weight in pounds, and round to 1 decimal.\n",
    "* Print out the string \"The patient weight in pounds is:\" followed by the weight in pounds.\n",
    "* Use the functions int() and str() to make sure the data types are correct for what you want the code to do."
   ]
  },
  {
   "cell_type": "code",
   "execution_count": 46,
   "metadata": {},
   "outputs": [
    {
     "name": "stdin",
     "output_type": "stream",
     "text": [
      "The patient's weight in kg:  80\n"
     ]
    },
    {
     "name": "stdout",
     "output_type": "stream",
     "text": [
      "The patient's weight in pounds is: 154.3\n"
     ]
    }
   ],
   "source": [
    "# Ask for the patient's weight in kg\n",
    "wt_kg = input(\"The patient's weight in kg: \")\n",
    "\n",
    "# Convert the input to an integer\n",
    "wt_kg = int(weight_kg)\n",
    "\n",
    "# Define the conversion factor from kg to pounds (1 kg = 2.20462 pounds)\n",
    "conversion_factor = 2.20462\n",
    "\n",
    "# Convert the weight to pounds and round to 1 decimal\n",
    "wt_lb = round(wt_kg * conversion_factor, 1)\n",
    "\n",
    "# Convert the weight to a string and print the result\n",
    "print(\"The patient's weight in pounds is: \" + str(wt_lb))"
   ]
  },
  {
   "cell_type": "markdown",
   "metadata": {},
   "source": [
    "### Exercise 5"
   ]
  },
  {
   "cell_type": "markdown",
   "metadata": {},
   "source": [
    "* [This page describes how to calculate the mean arterial pressure (MAP)](https://www.nursingcenter.com/ncblog/december-2011/calculating-the-map)\n",
    "* Use this info to calculate the MAP of the patient whose blood pressure is as follows: SBP=120, DBP=80\n",
    "* Print three statments:\n",
    "    * One presenting the systolic and diastolic blood presure\n",
    "    * One presenting the calculated MAP\n",
    "    * And one stating _\"MAP lower than recommended: \"_ together with a boolean testing this using the threshold of the linked page. "
   ]
  },
  {
   "cell_type": "code",
   "execution_count": 49,
   "metadata": {},
   "outputs": [
    {
     "name": "stdout",
     "output_type": "stream",
     "text": [
      "Systolic Blood Pressure: 120, Diastolic Blood Pressure: 80\n",
      "Mean Arterial Pressure: 93.33\n",
      "MAP lower than recommended: False\n"
     ]
    }
   ],
   "source": [
    "# Define the systolic and diastolic blood pressure values\n",
    "SBP = 120\n",
    "DBP = 80\n",
    "\n",
    "# Calculate the mean arterial pressure (MAP)\n",
    "MAP = (DBP + (SBP - DBP) / 3)\n",
    "\n",
    "# Print the systolic and diastolic blood pressure\n",
    "print(f\"Systolic Blood Pressure: {SBP}, Diastolic Blood Pressure: {DBP}\")\n",
    "\n",
    "# Print the calculated MAP\n",
    "print(f\"Mean Arterial Pressure: {MAP:.2f}\")\n",
    "\n",
    "# Check if MAP is lower than the recommended threshold (70 mmHg as a common reference)\n",
    "map_low = MAP < 70\n",
    "\n",
    "# Print the statement regarding MAP being lower than recommended\n",
    "print(f\"MAP lower than recommended: {map_low}\")\n"
   ]
  },
  {
   "cell_type": "markdown",
   "metadata": {},
   "source": [
    "### Exercise 6\n",
    "* Create a dictionary of lists for the following data. A patient can have 1 to 5 heart rate measurements:\n",
    "\n",
    "| patid | HR1 | HR2 | HR3 | HR4 | HR5 |\n",
    "| ----- | --- | ----| ----| ----| ----|\n",
    "| 1001| 95 | 123 | 110 | 90 | 100 | \n",
    "| 1002 | 110 | 150 | 160 | 87 | 99 |\n",
    "| 1003 | 120 | 120 | 110 | 200 | 150 | 140 |\n",
    "\n",
    "\n",
    "* Print the full dictionary\n",
    "* Print all the patients in the dictionary\n",
    "* Print all measurements for patient 1003\n",
    "* Delete all measurements for patient 1001\n",
    "* Print the full dictionary after deletion."
   ]
  },
  {
   "cell_type": "code",
   "execution_count": 61,
   "metadata": {},
   "outputs": [
    {
     "name": "stdout",
     "output_type": "stream",
     "text": [
      "Full patient HR dictionary: {1001: [95, 123, 110, 90, 100], 1002: [110, 150, 160, 87, 99], 1003: [120, 120, 110, 200, 150]}\n",
      "Measurements for patient 1003: [120, 120, 110, 200, 150]\n",
      "Full patient HR dictionary after deletion: {1002: [110, 150, 160, 87, 99], 1003: [120, 120, 110, 200, 150]}\n"
     ]
    }
   ],
   "source": [
    "# Create the dictionary\n",
    "patient_hr = {\n",
    "    1001: [95, 123, 110, 90, 100],\n",
    "    1002: [110, 150, 160, 87, 99],\n",
    "    1003: [120, 120, 110, 200, 150]\n",
    "}\n",
    "\n",
    "# Print the full dictionary\n",
    "print(\"Full patient HR dictionary:\", patient_hr)\n",
    "\n",
    "# Print all measurements for patient 1003\n",
    "print(\"Measurements for patient 1003:\", patient_hr[1003])\n",
    "\n",
    "# Delete all measurements for patient 1001\n",
    "del patient_hr[1001]\n",
    "\n",
    "# Print the full dictionary after deletion\n",
    "print(\"Full patient HR dictionary after deletion:\", patient_hr)"
   ]
  },
  {
   "cell_type": "markdown",
   "metadata": {},
   "source": [
    "### Exercise 7\n",
    "\n",
    "Write a Python program that prompts the user to enter 5 numbers one by one. Calculate and print the average of these 5 numbers.\n",
    "You are required to:\n",
    "1. Use a while loop to input numbers and calculate the total.\n",
    "2. Ensure that the program handles invalid input gracefully, displaying an error message and prompting the user to enter a valid number.\n",
    "3. Finally, calculate the average of the entered numbers and print it with two decimal places."
   ]
  },
  {
   "cell_type": "code",
   "execution_count": 62,
   "metadata": {},
   "outputs": [
    {
     "name": "stdin",
     "output_type": "stream",
     "text": [
      "Enter number 1:  24\n",
      "Enter number 2:  50\n",
      "Enter number 3:  32\n",
      "Enter number 4:  27\n",
      "Enter number 5:  35\n"
     ]
    },
    {
     "name": "stdout",
     "output_type": "stream",
     "text": [
      "The average of the entered numbers is: 33.60\n"
     ]
    }
   ],
   "source": [
    "# Initialize the total and count variables\n",
    "total = 0\n",
    "count = 0\n",
    "\n",
    "# Use a while loop to input numbers and calculate the total\n",
    "while count < 5:\n",
    "    try:\n",
    "        # Prompt the user to enter a number\n",
    "        number = float(input(f\"Enter number {count + 1}: \"))\n",
    "        # Add the number to the total\n",
    "        total += number\n",
    "        # Increment the count\n",
    "        count += 1\n",
    "    except ValueError:\n",
    "        # Handle invalid input\n",
    "        print(\"Invalid input. Please enter a valid number.\")\n",
    "\n",
    "# Calculate the average of the entered numbers\n",
    "average = total / 5\n",
    "\n",
    "# Print the average with two decimal places\n",
    "print(f\"The average of the entered numbers is: {average:.2f}\")"
   ]
  },
  {
   "cell_type": "markdown",
   "metadata": {},
   "source": [
    "### Exercise 8\n",
    "\n",
    "You are tasked with creating a Python program to calculate the gross salary per week for employees in a factory. The factory policy dictates that employees receive 1.5 times their hourly rate for any hours worked beyond 40 hours per week. Your program should prompt the user to enter the number of hours worked and the hourly rate for an employee. The program should then calculate and display the gross salary per week based on the input provided.\n",
    "\n",
    "Calculate the gross salary per week for Employee X if he works 55 hours with an hourly rate of 20."
   ]
  },
  {
   "cell_type": "code",
   "execution_count": 63,
   "metadata": {},
   "outputs": [
    {
     "name": "stdin",
     "output_type": "stream",
     "text": [
      "Enter the number of hours worked:  55\n",
      "Enter the hourly rate:  20\n"
     ]
    },
    {
     "name": "stdout",
     "output_type": "stream",
     "text": [
      "The gross salary per week is: $1250.00\n"
     ]
    }
   ],
   "source": [
    "# Prompt the user to enter the number of hours worked and the hourly rate\n",
    "hours_worked = float(input(\"Enter the number of hours worked: \"))\n",
    "hourly_rate = float(input(\"Enter the hourly rate: \"))\n",
    "\n",
    "# Initialize the gross salary variable\n",
    "gross_salary = 0\n",
    "\n",
    "# Calculate the gross salary\n",
    "if hours_worked > 40:\n",
    "    # Calculate overtime pay\n",
    "    overtime_hours = hours_worked - 40\n",
    "    overtime_pay = overtime_hours * (hourly_rate * 1.5)\n",
    "    # Calculate regular pay for the first 40 hours\n",
    "    regular_pay = 40 * hourly_rate\n",
    "    # Total gross salary\n",
    "    gross_salary = regular_pay + overtime_pay\n",
    "else:\n",
    "    # If no overtime, calculate regular pay\n",
    "    gross_salary = hours_worked * hourly_rate\n",
    "\n",
    "# Print the gross salary per week\n",
    "print(f\"The gross salary per week is: ${gross_salary:.2f}\")"
   ]
  },
  {
   "cell_type": "markdown",
   "metadata": {},
   "source": [
    "### Exercise 9\n",
    "\n",
    "* You are building a calorie tracker application. Write a Python program to calculate the total calories burned by a group of individuals during a workout session. The calorie burn is estimated based on the duration of the workout and the type of activity. Use lambda functions and conditionals to calculate the calorie burn for each individual.\n",
    "  * Define a list of tuples where each tuple contains the name of the individual, the duration of the workout (in minutes), and the type of activity (e.g., running, cycling, swimming).\n",
    "  * The following are the data from 5 individuals:\n",
    "    * (\"Ali\", 30, \"running\"),\n",
    "    * (\"Ah kau\", 45, \"cycling\"),\n",
    "    * (\"Samyob\", 60, \"swimming\"),\n",
    "    * (\"Ahmad\", 25, \"swimming\"),\n",
    "    * (\"Chin Hai\", 40, \"running\")\n",
    "  * Use any functions to calculate the calorie burn for each individual based on the following estimate:\n",
    "    * Running: 700 calories per 60 minutes\n",
    "    * Cycling: 650 calories per 60 minutes\n",
    "    * Swimming: 575 calories per 60 minutes\n",
    "  * Calculate and print the total calories burned by each individual."
   ]
  },
  {
   "cell_type": "code",
   "execution_count": 64,
   "metadata": {},
   "outputs": [
    {
     "name": "stdout",
     "output_type": "stream",
     "text": [
      "Ali burned 350.00 calories by running for 30 minutes.\n",
      "Ah kau burned 487.50 calories by cycling for 45 minutes.\n",
      "Samyob burned 575.00 calories by swimming for 60 minutes.\n",
      "Ahmad burned 239.58 calories by swimming for 25 minutes.\n",
      "Chin Hai burned 466.67 calories by running for 40 minutes.\n"
     ]
    }
   ],
   "source": [
    "# Define a list of tuples for individuals' workout data\n",
    "workout_data = [\n",
    "    (\"Ali\", 30, \"running\"),\n",
    "    (\"Ah kau\", 45, \"cycling\"),\n",
    "    (\"Samyob\", 60, \"swimming\"),\n",
    "    (\"Ahmad\", 25, \"swimming\"),\n",
    "    (\"Chin Hai\", 40, \"running\")\n",
    "]\n",
    "\n",
    "# Define a lambda function to calculate calories burned\n",
    "calories_burned = lambda duration, activity: duration * (700 / 60) if activity == \"running\" else (\n",
    "    duration * (650 / 60) if activity == \"cycling\" else duration * (575 / 60))\n",
    "\n",
    "# Calculate and print the total calories burned by each individual\n",
    "for person in workout_data:\n",
    "    name, duration, activity = person\n",
    "    calories = calories_burned(duration, activity)\n",
    "    print(f\"{name} burned {calories:.2f} calories by {activity} for {duration} minutes.\")"
   ]
  },
  {
   "cell_type": "markdown",
   "metadata": {},
   "source": [
    "### Exercise 10\n",
    "\n",
    "* You are tasked with creating a simple Python program to calculate the total calorie intake for a day based on the user's consumption of different food items. Create the program based on the following instructions:\n",
    "\n",
    "1. Define a dictionary named food_items to store various food items as keys and their respective calorie values per serving as values. Use the following food items and their calorie values per serving:\n",
    "    - \"banana\": 95\n",
    "    - \"yogurt\": 100\n",
    "    - \"salad\": 130\n",
    "    - \"chicken breast\": 165\n",
    "    - \"rice\": 112\n",
    "    - \"curry fish\": 221\n",
    "    - \"stirfried kailan\": 50\n",
    "2. Prompt the user to input the number of servings consumed for each food item.\n",
    "3. Calculate the total calorie intake for the day by multiplying the servings of each food item with its respective calorie value per serving and summing up the total calories. Print the total calorie intake for the day. Use the provided food items and their calorie values for your calculations.\n",
    "\n"
   ]
  },
  {
   "cell_type": "code",
   "execution_count": 65,
   "metadata": {},
   "outputs": [
    {
     "name": "stdin",
     "output_type": "stream",
     "text": [
      "Enter the number of servings of banana consumed:  1\n",
      "Enter the number of servings of yogurt consumed:  2\n",
      "Enter the number of servings of salad consumed:  3\n",
      "Enter the number of servings of chicken breast consumed:  1\n",
      "Enter the number of servings of rice consumed:  2\n",
      "Enter the number of servings of curry fish consumed:  1\n",
      "Enter the number of servings of stirfried kailan consumed:  4\n"
     ]
    },
    {
     "name": "stdout",
     "output_type": "stream",
     "text": [
      "Total calorie intake for the day: 1495.0\n"
     ]
    }
   ],
   "source": [
    "# Step 1: Define a dictionary with food items and their calorie values per serving\n",
    "food_items = {\n",
    "    \"banana\": 95,\n",
    "    \"yogurt\": 100,\n",
    "    \"salad\": 130,\n",
    "    \"chicken breast\": 165,\n",
    "    \"rice\": 112,\n",
    "    \"curry fish\": 221,\n",
    "    \"stirfried kailan\": 50\n",
    "}\n",
    "\n",
    "# Step 2: Prompt the user to input the number of servings for each food item\n",
    "total_calories = 0\n",
    "for food, calories_per_serving in food_items.items():\n",
    "    try:\n",
    "        servings = float(input(f\"Enter the number of servings of {food} consumed: \"))\n",
    "        # Step 3: Calculate the total calorie intake\n",
    "        total_calories += servings * calories_per_serving\n",
    "    except ValueError:\n",
    "        print(f\"Invalid input for {food}. Please enter a numeric value.\")\n",
    "\n",
    "# Print the total calorie intake for the day\n",
    "print(f\"Total calorie intake for the day: {total_calories}\")"
   ]
  },
  {
   "cell_type": "code",
   "execution_count": null,
   "metadata": {},
   "outputs": [],
   "source": []
  }
 ],
 "metadata": {
  "kernelspec": {
   "display_name": "Python 3 (ipykernel)",
   "language": "python",
   "name": "python3"
  },
  "language_info": {
   "codemirror_mode": {
    "name": "ipython",
    "version": 3
   },
   "file_extension": ".py",
   "mimetype": "text/x-python",
   "name": "python",
   "nbconvert_exporter": "python",
   "pygments_lexer": "ipython3",
   "version": "3.11.7"
  }
 },
 "nbformat": 4,
 "nbformat_minor": 4
}
