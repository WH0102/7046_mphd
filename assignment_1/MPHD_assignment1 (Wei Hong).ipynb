{
 "cells": [
  {
   "cell_type": "markdown",
   "metadata": {},
   "source": [
    "# MQB7046 MODELLING PUBLIC HEALTH DATA\n",
    "## ASSIGNMENT 1\n",
    "\n",
    "1. Please complete your assignment and submit by 24 March 2024 (Sunday) 5pm.\n",
    "2. Submit your notebook (.ipynb) in the UM spectrum. \n",
    "3. You can work either work independently or in a group of two. \n"
   ]
  },
  {
   "cell_type": "markdown",
   "metadata": {},
   "source": [
    "### Exercise 1\n",
    "* Create two number variables to store a patients clinical measurements\n",
    "    * Height was 1.82 m\n",
    "    * Weight was 88.2 kg\n",
    "* Calculate the BMI\n",
    "* Use the round() function to round of the result to 2 decimals\n",
    "    * If needed use help(round) to learn how to use this function\n",
    "* Print the BMI and consider if the patient is obese."
   ]
  },
  {
   "cell_type": "code",
   "execution_count": 1,
   "metadata": {},
   "outputs": [
    {
     "name": "stdout",
     "output_type": "stream",
     "text": [
      "Patient is Overweight with BMI = 26.63\n"
     ]
    }
   ],
   "source": [
    "# Create 2 number vairables\n",
    "height = 1.82\n",
    "weight = 88.2\n",
    "\n",
    "# Calculate the BMI and round to 2 decimals\n",
    "bmi = round((weight/(height**2)), 2)\n",
    "\n",
    "# Define either patient is obese or not\n",
    "# Values based on Malaysia CPG guideline management of obesity\n",
    "# https://www.moh.gov.my/moh/resources/Penerbitan/CPG/Endocrine/CPG_Management_of_Obesity_(Second_Edition)_2023.pdf\n",
    "if bmi >= 37.5:\n",
    "    bmi_category = \"Severely Obese\"\n",
    "elif bmi >= 32.5:\n",
    "    bmi_category = \"Moderately Obese\"\n",
    "elif bmi >= 27.5:\n",
    "    bmi_category = \"Obese\"\n",
    "elif bmi >= 23.0:\n",
    "    bmi_category = \"Overweight\"\n",
    "elif bmi >= 18.5:\n",
    "    bmi_category = \"Normal Weight\"\n",
    "else:\n",
    "    bmi_category = \"Underweight\"\n",
    "\n",
    "# Print out the the bmi category and patient's bmi\n",
    "print(\"Patient is\", bmi_category, \"with BMI =\", bmi)"
   ]
  },
  {
   "cell_type": "markdown",
   "metadata": {},
   "source": [
    "### Exercise 2\n",
    "* Using the build in string function to replace __z__ with __l__ and __b__ with __e__ in the string: _\"you arb doing bxtrbmbzy wbzz\"_\n",
    "* Finally apply a function to capitalise the sentence"
   ]
  },
  {
   "cell_type": "code",
   "execution_count": 2,
   "metadata": {},
   "outputs": [
    {
     "name": "stdout",
     "output_type": "stream",
     "text": [
      "You are doing extremely well\n"
     ]
    }
   ],
   "source": [
    "# Set a variable for the strings\n",
    "sentence = \"you arb doing bxtrbmbzy wbzz\"\n",
    "\n",
    "# Create a dictionary for string to be replace\n",
    "word_replacer = {\"z\":\"l\", \"b\":\"e\"}\n",
    "\n",
    "# Replace the string with looping on the dictionary above\n",
    "for key, value in word_replacer.items():\n",
    "    sentence = sentence.replace(key, value)\n",
    "\n",
    "# Capitalize the sentence and print it out.\n",
    "print(sentence.capitalize())"
   ]
  },
  {
   "cell_type": "markdown",
   "metadata": {},
   "source": [
    "### Exercise 3\n",
    "* Your task is to create a Python program to convert Celsius temperatures to Fahrenheit. You can use a mixture of functions, for example, map() or lambda to achieve the desired result. You can perform the following steps.\n",
    "  * Define a named function called _\"celsius_to_fahrenheit\"_ that takes a Celsius temperature as input and returns the equivalent temperature in Fahenheit.\n",
    "  * Define a list named _\"celsius\"_ containing temperature values in Celcius.\n",
    "  * Use the map() function along with the named function _\"celsius_to_fahrenheit\"_ to convert each Celsius temperature to Fahrenheit.\n",
    "  * Store the converted temperatures in a new list named  _\"fahrenheit\"_.\n",
    "  * \n",
    "Print both the original Celsius temperatures and the converted Fahrenheit temperatures."
   ]
  },
  {
   "cell_type": "code",
   "execution_count": 3,
   "metadata": {},
   "outputs": [
    {
     "name": "stdout",
     "output_type": "stream",
     "text": [
      "Celsius list = [0.0, 20.0, 40.0, 60.0, 80.0, 100.0]\n",
      "Fahrenheit list = [32.0, 68.0, 104.0, 140.0, 176.0, 212.0]\n"
     ]
    }
   ],
   "source": [
    "# Define the function to convert Celsius to Fahrenheit\n",
    "def celsius_to_fahrenheit(celsius):\n",
    "    return celsius * 1.8 + 32\n",
    "\n",
    "# Create a dummy list of Celsius\n",
    "celsius = [0.0, 20.0, 40.0, 60.0, 80.0, 100.0]\n",
    "\n",
    "# Convert the temperature list of celsius to fahrenheit\n",
    "fahrenheit = list(map(celsius_to_fahrenheit, celsius))\n",
    "\n",
    "# Print both list\n",
    "print(\"Celsius list =\", celsius)\n",
    "print(\"Fahrenheit list =\", fahrenheit)"
   ]
  },
  {
   "cell_type": "markdown",
   "metadata": {},
   "source": [
    "### Exercise 4\n",
    "* Using the input function write a program that asks for a patient's weight in kg.\n",
    "* Divide the weight with an appropriate factor to get the weight in pounds, and round to 1 decimal.\n",
    "* Print out the string \"The patient weight in pounds is:\" followed by the weight in pounds.\n",
    "* Use the functions int() and str() to make sure the data types are correct for what you want the code to do."
   ]
  },
  {
   "cell_type": "code",
   "execution_count": 4,
   "metadata": {},
   "outputs": [
    {
     "name": "stdout",
     "output_type": "stream",
     "text": [
      "Please key in patient's weight in kg. User key in value = 100kg\n",
      "Unable to convert 100kg into numerical value, please key in numerical numbers only for the patient's weight in kg.\n",
      "Please key in patient's weight in kg. User key in value = 100kg\n",
      "Unable to convert 100kg into numerical value, please key in numerical numbers only for the patient's weight in kg.\n",
      "Please key in patient's weight in kg. User key in value = 100\n",
      "The patient weight in pounds is: 220.5\n"
     ]
    }
   ],
   "source": [
    "def convert_to_pounds(input_sentece: str, input_category: str):\n",
    "        \"\"\"To convert the input into float.\n",
    "        If the user key in any non-numerical value will prompt an error to user and\n",
    "        user are required to key in a new value again.\n",
    "\n",
    "        Args:\n",
    "            input_sentece (str): A sentence to ask what is the value user should key in for.\n",
    "            input_category (str): A sentence to display a warning that user key in a non-numerical value\n",
    "\n",
    "        Returns:\n",
    "            float: input in float type\n",
    "        \"\"\"\n",
    "        # Create an infinity loop for user to key in value\n",
    "        while True:\n",
    "            input_num = input(input_sentece.strip())\n",
    "            try:\n",
    "                # Try to convert the user input into float and return the value\n",
    "                print(input_sentece, \"User key in value =\", input_num)\n",
    "                return int(input_num)\n",
    "                # A safety pin to break the infinite loop, despite after return python will stop the loop automatically\n",
    "                break\n",
    "            except:\n",
    "                # Display a warning prompt if the value user key in is not numerical.\n",
    "                print(\"Unable to convert\", input_num, \"into numerical value, please key in numerical numbers only for the\", input_category)\n",
    "\n",
    "\n",
    "# Ask for input of weight\n",
    "weight_in_kg = convert_to_pounds(\"Please key in patient's weight in kg.\", \"patient's weight in kg.\")\n",
    "# Convert the weight from kg to pound, round it to 1 decimal & print it out\n",
    "# Weight in pounds = weight in kg * 2.204622622 based on https://kilograms-to-pounds.com/\n",
    "# Print the \n",
    "print(\"The patient weight in pounds is: {}\".format(round(weight_in_kg*2.204622622, 1)))"
   ]
  },
  {
   "cell_type": "markdown",
   "metadata": {},
   "source": [
    "### Exercise 5"
   ]
  },
  {
   "cell_type": "markdown",
   "metadata": {},
   "source": [
    "* [This page describes how to calculate the mean arterial pressure (MAP)](https://www.nursingcenter.com/ncblog/december-2011/calculating-the-map)\n",
    "* Use this info to calculate the MAP of the patient whose blood pressure is as follows: SBP=120, DBP=80\n",
    "* Print three statments:\n",
    "    * One presenting the systolic and diastolic blood presure\n",
    "    * One presenting the calculated MAP\n",
    "    * And one stating _\"MAP lower than recommended: \"_ together with a boolean testing this using the threshold of the linked page. "
   ]
  },
  {
   "cell_type": "code",
   "execution_count": 5,
   "metadata": {},
   "outputs": [
    {
     "name": "stdout",
     "output_type": "stream",
     "text": [
      "Systolic Blooc Pressure 120 mmHg.\n",
      "Diastolic Blooc Pressure 80 mmHg.\n",
      "Your MAP is 93.33333333333333mmHg, which is within the recommendation. (Higher or equal than 65mmHg)\n"
     ]
    }
   ],
   "source": [
    "def map_calculator(sbp = 120, dbp = 80):\n",
    "    \"\"\"Calculate the mean arterial pressure with formula from \n",
    "    https://www.nursingcenter.com/ncblog/december-2011/calculating-the-map\n",
    "\n",
    "    Args:\n",
    "        sbp (int, optional): Please put your systolic blood pressure. Defaults to 120.\n",
    "        dbp (int, optional): Please put your diastolic blood pressure. Defaults to 80.\n",
    "    \"\"\"\n",
    "    # Calculate the mean arterial pressure with formula from\n",
    "    # https://www.nursingcenter.com/ncblog/december-2011/calculating-the-map\n",
    "    mean_arterial_pressure = (sbp+(2*dbp))/3\n",
    "\n",
    "    # Print the systolic and diastolic blood pressure\n",
    "    print(\"Systolic Blooc Pressure\", sbp, \"mmHg.\")\n",
    "    print(\"Diastolic Blooc Pressure\", dbp, \"mmHg.\")\n",
    "\n",
    "    # Deciding the MAP cattegory based on Surviving Sepsis Campaign, MAP should >= 65mmHg\n",
    "    if mean_arterial_pressure >= 65:\n",
    "        print(\"Your MAP is\", str(mean_arterial_pressure) +\"mmHg, which is within the recommendation. (Higher or equal than 65mmHg)\")\n",
    "    else:\n",
    "        print(\"MAP lower than recommended:\", mean_arterial_pressure)\n",
    "    \n",
    "# Perform the function\n",
    "map_calculator(sbp=120, dbp=80)"
   ]
  },
  {
   "cell_type": "markdown",
   "metadata": {},
   "source": [
    "### Exercise 6\n",
    "* Create a dictionary of lists for the following data. A patient can have 1 to 5 heart rate measurements:\n",
    "\n",
    "| patid | HR1 | HR2 | HR3 | HR4 | HR5 |\n",
    "| ----- | --- | ----| ----| ----| ----|\n",
    "| 1001| 95 | 123 | 110 | 90 | 100 | \n",
    "| 1002 | 110 | 150 | 160 | 87 | 99 |\n",
    "| 1003 | 120 | 120 | 110 | 200 | 150 | 140 |\n",
    "\n",
    "\n",
    "* Print the full dictionary\n",
    "* Print all the patients in the dictionary\n",
    "* Print all measurements for patient 1003\n",
    "* Delete all measurements for patient 1001\n",
    "* Print the full dictionary after deletion."
   ]
  },
  {
   "cell_type": "code",
   "execution_count": 6,
   "metadata": {},
   "outputs": [
    {
     "name": "stdout",
     "output_type": "stream",
     "text": [
      "Print all the patients in the dictionary\n",
      "{1001: [95, 123, 110, 90, 100], 1002: [110, 150, 160, 87, 99], 1003: [120, 120, 110, 200, 150]}\n",
      "Print all the measurements for patient 1003\n",
      "[120, 120, 110, 200, 150]\n",
      "Delete all measurements for patient 1001\n",
      "Print the full dictionary after delet/ion\n",
      "{1002: [110, 150, 160, 87, 99], 1003: [120, 120, 110, 200, 150]}\n"
     ]
    }
   ],
   "source": [
    "# Create the dictionary for the data above\n",
    "patients_data = {\n",
    "    1001:[95, 123, 110, 90, 100],\n",
    "    1002:[110, 150, 160, 87, 99],\n",
    "    1003:[120, 120, 110, 200, 150]\n",
    "}\n",
    "print(\"Print all the patients in the dictionary\")\n",
    "print(patients_data)\n",
    "print(\"Print all the measurements for patient 1003\")\n",
    "print(patients_data[1003])\n",
    "print(\"Delete all measurements for patient 1001\")\n",
    "del(patients_data[1001])\n",
    "print(\"Print the full dictionary after delet/ion\")\n",
    "print(patients_data)"
   ]
  },
  {
   "cell_type": "markdown",
   "metadata": {},
   "source": [
    "### Exercise 7\n",
    "\n",
    "Write a Python program that prompts the user to enter 5 numbers one by one. Calculate and print the average of these 5 numbers.\n",
    "You are required to:\n",
    "1. Use a while loop to input numbers and calculate the total.\n",
    "2. Ensure that the program handles invalid input gracefully, displaying an error message and prompting the user to enter a valid number.\n",
    "3. Finally, calculate the average of the entered numbers and print it with two decimal places."
   ]
  },
  {
   "cell_type": "code",
   "execution_count": 7,
   "metadata": {},
   "outputs": [
    {
     "name": "stdout",
     "output_type": "stream",
     "text": [
      "The average valuese for the 5 numbers you key in = 9.4\n"
     ]
    }
   ],
   "source": [
    "# Define the function for the above program\n",
    "def average_of_5_numbers():\n",
    "    \"\"\"A simple function to allow users to key in 5 numerical values and \n",
    "    return the average of the 5 values user entered with 2 decimal places.\n",
    "    \"\"\"\n",
    "    # Define the initial value with 0 first\n",
    "    val = 0 # To calculate total values\n",
    "    num = 1 # For loop with while\n",
    "\n",
    "    # To loop the input for 5 times\n",
    "    while num < 6:\n",
    "        # To allow user to input\n",
    "        input_num = input(\"Please input your value number \" + str(num) +\":\")\n",
    "        try:\n",
    "            # To convert the input to float\n",
    "            input_num = float(input_num.strip())\n",
    "            print(\"User key in value of\", input_num)\n",
    "            # Add the input value into val\n",
    "            val += input_num\n",
    "            # Add 1 to num to prevent infinity loop\n",
    "            num += 1\n",
    "        except:\n",
    "            # If the input_num unable to be converted to float\n",
    "            print(\"The value you entered\", input_num, \"is not a valid number, please key in numbers only.\")\n",
    "\n",
    "    # Print the average values after round with 2 decimal places\n",
    "    print(\"The average valuese for the 5 numbers you key in =\", round(val/5, 2))\n",
    "\n",
    "# Run the function\n",
    "average_of_5_numbers()"
   ]
  },
  {
   "cell_type": "markdown",
   "metadata": {},
   "source": [
    "### Exercise 8\n",
    "\n",
    "You are tasked with creating a Python program to calculate the gross salary per week for employees in a factory. The factory policy dictates that employees receive 1.5 times their hourly rate for any hours worked beyond 40 hours per week. Your program should prompt the user to enter the number of hours worked and the hourly rate for an employee. The program should then calculate and display the gross salary per week based on the input provided.\n",
    "\n",
    "Calculate the gross salary per week for Employee X if he works 55 hours with an hourly rate of 20."
   ]
  },
  {
   "cell_type": "code",
   "execution_count": 8,
   "metadata": {},
   "outputs": [
    {
     "name": "stdout",
     "output_type": "stream",
     "text": [
      "How many hours did you work in a week? User key in value = 55\n",
      "What is your hourly rate salary? User key in value = 20\n",
      "The gross salary per week for you is RM1,250.00\n"
     ]
    }
   ],
   "source": [
    "# A function that ensure user input numeric value\n",
    "def convert_to_float(input_sentece: str, input_category: str):\n",
    "        \"\"\"To convert the input into float.\n",
    "        If the user key in any non-numerical value will prompt an error to user and\n",
    "        user are required to key in a new value again.\n",
    "\n",
    "        Args:\n",
    "            input_sentece (str): A sentence to ask what is the value user should key in for.\n",
    "            input_category (str): A sentence to display a warning that user key in a non-numerical value\n",
    "\n",
    "        Returns:\n",
    "            float: input in float type\n",
    "        \"\"\"\n",
    "        # Create an infinity loop for user to key in value\n",
    "        while True:\n",
    "            input_num = input(input_sentece.strip())\n",
    "            try:\n",
    "                # Try to convert the user input into float and return the value\n",
    "                print(input_sentece, \"User key in value =\", input_num)\n",
    "                return float(input_num)\n",
    "                # A safety pin to break the infinite loop, despite after return python will stop the loop automatically\n",
    "                break\n",
    "            except:\n",
    "                # Display a warning prompt if the value user key in is not numerical.\n",
    "                print(\"Unable to convert\", input_num, \"into numerical value, please key in numerical numbers only for the\", input_category)\n",
    "\n",
    "# Define a function to calculate the gross salary per week for employees\n",
    "def gross_salary_per_week_calculator():\n",
    "    \"\"\"A simple program to calculate the gross salary per week for employee in the factory.\n",
    "    The factory policy dictates that employees receive 1.5 times their hourly rate for any hours worked beyond 40 hours per week.\n",
    "    User are required to enter the umber of hours worked and hourly rate for the employee user wish to calculatte\n",
    "    This program will  only display the gross salary per week based on the input provided without return any value.\n",
    "    \"\"\"\n",
    "    # Requesting user to input number of hours worked\n",
    "    working_hours = convert_to_float(\"How many hours did you work in a week?\", \n",
    "                                     \"working hours per week.\")\n",
    "    \n",
    "    # Requesting user to input hourly rate salary\n",
    "    salary_per_hour = convert_to_float(\"What is your hourly rate salary?\",\n",
    "                                       \"hourly rate salary.\")\n",
    "\n",
    "    # If worker worked beyong 40 yours per week, the salary should be 1.5 times their hourly rate beyond 40 hours\n",
    "    if working_hours >= 40:\n",
    "        # Calculate overtime salary\n",
    "        overtime_salary = (working_hours - 40) * 1.5 * salary_per_hour\n",
    "        # Add 40 hours salary with normal rate\n",
    "        gross_salary_per_week = (40 * salary_per_hour) + overtime_salary\n",
    "    else:\n",
    "       # Calculate the gross salary per week without overtime\n",
    "        gross_salary_per_week = salary_per_hour * working_hours\n",
    "    \n",
    "    # Display the gross salary for the employee\n",
    "    print(f\"\"\"The gross salary per week for you is RM{gross_salary_per_week:,.2f}\"\"\")\n",
    "\n",
    "# To input employee X who worked 55 hours with an hourly rate of 20\n",
    "gross_salary_per_week_calculator()"
   ]
  },
  {
   "cell_type": "markdown",
   "metadata": {},
   "source": [
    "### Exercise 9\n",
    "\n",
    "* You are building a calorie tracker application. Write a Python program to calculate the total calories burned by a group of individuals during a workout session. The calorie burn is estimated based on the duration of the workout and the type of activity. Use lambda functions and conditionals to calculate the calorie burn for each individual.\n",
    "  * Define a list of tuples where each tuple contains the name of the individual, the duration of the workout (in minutes), and the type of activity (e.g., running, cycling, swimming).\n",
    "  * The following are the data from 5 individuals:\n",
    "    * (\"Ali\", 30, \"running\"),\n",
    "    * (\"Ah kau\", 45, \"cycling\"),\n",
    "    * (\"Samyob\", 60, \"swimming\"),\n",
    "    * (\"Ahmad\", 25, \"swimming\"),\n",
    "    * (\"Chin Hai\", 40, \"running\")\n",
    "  * Use any functions to calculate the calorie burn for each individual based on the following estimate:\n",
    "    * Running: 700 calories per 60 minutes\n",
    "    * Cycling: 650 calories per 60 minutes\n",
    "    * Swimming: 575 calories per 60 minutes\n",
    "  * Calculate and print the total calories burned by each individual."
   ]
  },
  {
   "cell_type": "code",
   "execution_count": 9,
   "metadata": {},
   "outputs": [
    {
     "name": "stdout",
     "output_type": "stream",
     "text": [
      "Total calories burned out by Ali = 350.0 calories.\n",
      "Total calories burned out by Ah kau = 487.5 calories.\n",
      "Total calories burned out by Samyob = 575.0 calories.\n",
      "Total calories burned out by Ahmad = 239.58333333333334 calories.\n",
      "Total calories burned out by Chin Hai = 466.66666666666663 calories.\n"
     ]
    }
   ],
   "source": [
    "# Define a list of typles where each tuple contains the name of the individual, the duration of the workout (in minutes), and the type of activity.\n",
    "participants_list = [(\"Ali\", 30, \"running\",),\n",
    "                     (\"Ah kau\", 45, \"cycling\",),\n",
    "                     (\"Samyob\", 60, \"swimming\",),\n",
    "                     (\"Ahmad\", 25, \"swimming\",),\n",
    "                     (\"Chin Hai\", 40, \"running\",)]\n",
    "\n",
    "# Define a function to calculate the total calories burned out\n",
    "def calculate_calories(activity = None, minutes = 0):\n",
    "    # Defined a dictionary with the calories per activity per 60 minutes\n",
    "    _calories_ratio = {\"running\":700,\n",
    "                       \"cycling\":650,\n",
    "                       \"swimming\":575}\n",
    "    \n",
    "    # To calculate the total calories, round the value to 2 decimal places.\n",
    "    return _calories_ratio[activity]/60*minutes\n",
    "\n",
    "# To loop through the list with the above function, round the value to 2 decimal places.\n",
    "participants_list = [x + (calculate_calories(activity=x[2], minutes=x[1]),) for x in participants_list]\n",
    "\n",
    "# Print all the calories intake for each participants via loop method\n",
    "for participant in participants_list:\n",
    "    print(\"Total calories burned out by\", participant[0], \"=\", participant[3], \"calories.\")"
   ]
  },
  {
   "cell_type": "markdown",
   "metadata": {},
   "source": [
    "### Exercise 10\n",
    "\n",
    "* You are tasked with creating a simple Python program to calculate the total calorie intake for a day based on the user's consumption of different food items. Create the program based on the following instructions:\n",
    "\n",
    "1. Define a dictionary named food_items to store various food items as keys and their respective calorie values per serving as values. Use the following food items and their calorie values per serving:\n",
    "    - \"banana\": 95\n",
    "    - \"yogurt\": 100\n",
    "    - \"salad\": 130\n",
    "    - \"chicken breast\": 165\n",
    "    - \"rice\": 112\n",
    "    - \"curry fish\": 221\n",
    "    - \"stirfried kailan\": 50\n",
    "2. Prompt the user to input the number of servings consumed for each food item.\n",
    "3. Calculate the total calorie intake for the day by multiplying the servings of each food item with its respective calorie value per serving and summing up the total calories. Print the total calorie intake for the day. Use the provided food items and their calorie values for your calculations.\n",
    "\n"
   ]
  },
  {
   "cell_type": "code",
   "execution_count": 10,
   "metadata": {},
   "outputs": [
    {
     "name": "stdout",
     "output_type": "stream",
     "text": [
      "How many banana do you consumed? User key in value = 2\n",
      "How many yogurt do you consumed? User key in value = 2\n",
      "How many salad do you consumed? User key in value = 3\n",
      "How many chicken breast do you consumed? User key in value = 1\n",
      "How many rice do you consumed? User key in value = 3\n",
      "How many curry fish do you consumed? User key in value = 1\n",
      "How many stirfried kailan do you consumed? User key in value = 3\n",
      "Total calories intake = 1652.0\n"
     ]
    }
   ],
   "source": [
    "# A function that ensure user input numeric value, repeated to prevent error in this cell that didn't run previous\n",
    "def convert_to_float(input_sentece: str, input_category: str):\n",
    "        \"\"\"To convert the input into float.\n",
    "        If the user key in any non-numerical value will prompt an error to user and\n",
    "        user are required to key in a new value again.\n",
    "\n",
    "        Args:\n",
    "            input_sentece (str): A sentence to ask what is the value user should key in for.\n",
    "            input_category (str): A sentence to display a warning that user key in a non-numerical value\n",
    "\n",
    "        Returns:\n",
    "            float: input in float type\n",
    "        \"\"\"\n",
    "        # Create an infinity loop for user to key in value\n",
    "        while True:\n",
    "            input_num = input(input_sentece.strip())\n",
    "            try:\n",
    "                # Try to convert the user input into float and return the value\n",
    "                print(input_sentece, \"User key in value =\", input_num)\n",
    "                return float(input_num)\n",
    "                # A safety pin to break the infinite loop, despite after return python will stop the loop automatically\n",
    "                break\n",
    "            except:\n",
    "                # Display a warning prompt if the value user key in is not numerical.\n",
    "                print(\"Unable to convert\", input_num, \"into numerical value, please key in numerical numbers only for\", input_category)\n",
    "\n",
    "# Define a dictionary named food_items to store various food items as keys and their respective calorie values per serving as values.\n",
    "food_items = {\n",
    "    \"banana\": 95,\n",
    "    \"yogurt\": 100,\n",
    "    \"salad\": 130,\n",
    "    \"chicken breast\": 165,\n",
    "    \"rice\": 112,\n",
    "    \"curry fish\": 221,\n",
    "    \"stirfried kailan\": 50,\n",
    "}\n",
    "\n",
    "# Initiate total calories as 0\n",
    "total_calories_day = 0\n",
    "\n",
    "# To loop through the list\n",
    "for food, calories in food_items.items():\n",
    "    # Prompt the user to input the number of servings consumed for each food item.\n",
    "    number_of_serving = convert_to_float(\"How many \" + food + \" do you consumed?\",\n",
    "                                         \"How many \" + food + \" do you consumed?\")\n",
    "    \n",
    "    # Add the calories intake of the food into total_calories_day\n",
    "    total_calories_day = total_calories_day + (number_of_serving * calories)\n",
    "\n",
    "# Print the total calories intake\n",
    "print(\"Total calories intake =\", total_calories_day)"
   ]
  }
 ],
 "metadata": {
  "kernelspec": {
   "display_name": "Python 3 (ipykernel)",
   "language": "python",
   "name": "python3"
  },
  "language_info": {
   "codemirror_mode": {
    "name": "ipython",
    "version": 3
   },
   "file_extension": ".py",
   "mimetype": "text/x-python",
   "name": "python",
   "nbconvert_exporter": "python",
   "pygments_lexer": "ipython3",
   "version": "3.12.2"
  }
 },
 "nbformat": 4,
 "nbformat_minor": 4
}
