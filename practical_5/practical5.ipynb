{
 "cells": [
  {
   "cell_type": "markdown",
   "id": "ee2c32af-996f-4304-8745-d70ae9c67e52",
   "metadata": {},
   "source": [
    "## MQB7046 MODELLING PUBLIC HEALTH DATA - Ordinal logistic regression\n",
    "Prepared by Claire Choo (15/4/2024)"
   ]
  },
  {
   "cell_type": "markdown",
   "id": "82cb216d-f366-4865-a89a-c508d66a50bc",
   "metadata": {},
   "source": [
    "Ordinal Logistic Regression is a statistical model used when the dependent variable is ordinal in nature, that is it has a clear ordering or ranking, but the differences between the categories may not be equal. \n",
    "The dependent variable must be ordinal, such as a rating scale (e.g. 1 = poor, 2 = fair, 3 = good, 4 = excellent). \n",
    "The model assumes that the relationship between the predictor variables and the logit of the cumulative probabilities is the same for all logits (the proportional odds assumption). "
   ]
  },
  {
   "cell_type": "markdown",
   "id": "4f0c7c5c-fa2c-499b-a1e2-bd384e51b37e",
   "metadata": {},
   "source": [
    "#### Practical 5\n",
    "\n",
    "A study examined factors that influence the decision of whether to apply to graduate programme.  Undergraduates were asked if they are unlikely, somewhat likely, or very likely to apply to graduate programme. The outcome variable has three categories coded as 0,1,2. Data on parental educational status (0 is no tertiary education, 1 is with tertiary education), whether the undergraduate institution is public (1) or private (0), and current GPA was collected. "
   ]
  },
  {
   "cell_type": "code",
   "execution_count": 1,
   "id": "99f31be6-c001-45f1-8cab-6528b97fc5d4",
   "metadata": {},
   "outputs": [
    {
     "data": {
      "text/html": [
       "<div>\n",
       "<style scoped>\n",
       "    .dataframe tbody tr th:only-of-type {\n",
       "        vertical-align: middle;\n",
       "    }\n",
       "\n",
       "    .dataframe tbody tr th {\n",
       "        vertical-align: top;\n",
       "    }\n",
       "\n",
       "    .dataframe thead th {\n",
       "        text-align: right;\n",
       "    }\n",
       "</style>\n",
       "<table border=\"1\" class=\"dataframe\">\n",
       "  <thead>\n",
       "    <tr style=\"text-align: right;\">\n",
       "      <th></th>\n",
       "      <th>pared</th>\n",
       "      <th>public</th>\n",
       "      <th>gpa</th>\n",
       "      <th>apply</th>\n",
       "    </tr>\n",
       "  </thead>\n",
       "  <tbody>\n",
       "    <tr>\n",
       "      <th>0</th>\n",
       "      <td>0</td>\n",
       "      <td>0</td>\n",
       "      <td>3.26</td>\n",
       "      <td>2</td>\n",
       "    </tr>\n",
       "    <tr>\n",
       "      <th>1</th>\n",
       "      <td>1</td>\n",
       "      <td>0</td>\n",
       "      <td>3.21</td>\n",
       "      <td>1</td>\n",
       "    </tr>\n",
       "    <tr>\n",
       "      <th>2</th>\n",
       "      <td>1</td>\n",
       "      <td>1</td>\n",
       "      <td>3.94</td>\n",
       "      <td>0</td>\n",
       "    </tr>\n",
       "    <tr>\n",
       "      <th>3</th>\n",
       "      <td>0</td>\n",
       "      <td>0</td>\n",
       "      <td>2.81</td>\n",
       "      <td>1</td>\n",
       "    </tr>\n",
       "    <tr>\n",
       "      <th>4</th>\n",
       "      <td>0</td>\n",
       "      <td>0</td>\n",
       "      <td>2.53</td>\n",
       "      <td>1</td>\n",
       "    </tr>\n",
       "  </tbody>\n",
       "</table>\n",
       "</div>"
      ],
      "text/plain": [
       "   pared  public   gpa  apply\n",
       "0      0       0  3.26      2\n",
       "1      1       0  3.21      1\n",
       "2      1       1  3.94      0\n",
       "3      0       0  2.81      1\n",
       "4      0       0  2.53      1"
      ]
     },
     "execution_count": 1,
     "metadata": {},
     "output_type": "execute_result"
    }
   ],
   "source": [
    "import sys\n",
    "import os\n",
    "sys.path.append(os.path.dirname(os.getcwd()))\n",
    "\n",
    "import pandas as pd\n",
    "import wh0102 as mphd\n",
    "\n",
    "data_dictionary = {\n",
    "    \"apply\":{0:\"unlikely\",\n",
    "             1:\"somewhat_likely\",\n",
    "             2:\"very_likely\"},\n",
    "    \"pared\":{0:\"no_tertiary_education\",\n",
    "             1:\"with_tertiary_education\"},\n",
    "    \"public\":{0:\"private\",\n",
    "              1:\"public\"}\n",
    "}\n",
    "\n",
    "# Load the dataset into a DataFrame\n",
    "grad = pd.read_csv(\"grad.csv\")\n",
    "\n",
    "# Display the first few rows of the DataFrame to verify that the data is loaded correctly\n",
    "grad.head()"
   ]
  },
  {
   "cell_type": "code",
   "execution_count": 2,
   "id": "239bb81e",
   "metadata": {},
   "outputs": [
    {
     "name": "stderr",
     "output_type": "stream",
     "text": [
      "/var/folders/kx/mhdv49d913j0rf2b8xmgtmhw0000gn/T/ipykernel_31048/3111779272.py:6: DeprecationWarning: In a future version, `df.iloc[:, i] = newvals` will attempt to set the values inplace instead of always setting a new array. To retain the old behavior, use either `df[df.columns[i]] = newvals` or, if columns are non-unique, `df.isetitem(i, newvals)`\n",
      "  df.loc[:,\"apply\"] = pd.Categorical(df.loc[:,\"apply\"], categories=list(data_dictionary[\"apply\"].values()), ordered = True)\n"
     ]
    },
    {
     "name": "stdout",
     "output_type": "stream",
     "text": [
      "+-----------------+-------+\n",
      "|                 |  gpa  |\n",
      "+-----------------+-------+\n",
      "|      count      | 400.0 |\n",
      "|      mean       |  3.0  |\n",
      "|       std       |  0.4  |\n",
      "|       min       |  1.9  |\n",
      "|       25%       | 2.72  |\n",
      "|       50%       | 2.99  |\n",
      "|       75%       | 3.27  |\n",
      "|       max       |  4.0  |\n",
      "|      skew       | -0.03 |\n",
      "|    kurtosis     | -0.41 |\n",
      "|     shapiro     |  1.0  |\n",
      "| shapiro_p_value | 0.47  |\n",
      "+-----------------+-------+\n",
      "QQ plot for gpa\n"
     ]
    },
    {
     "data": {
      "image/png": "[encoded data removed]",
      "text/plain": [
       "<Figure size 640x480 with 1 Axes>"
      ]
     },
     "metadata": {},
     "output_type": "display_data"
    }
   ],
   "source": [
    "# To convert to string type of dataframe\n",
    "df = mphd.categorical_data.reverse_encode(grad, json_dict=data_dictionary)\n",
    "\n",
    "# Categorize the apply\n",
    "grad.loc[:,\"apply\"] = pd.Categorical(grad.loc[:,\"apply\"], categories=list(range(0,3)), ordered = True)\n",
    "df.loc[:,\"apply\"] = pd.Categorical(df.loc[:,\"apply\"], categories=list(data_dictionary[\"apply\"].values()), ordered = True)\n",
    "\n",
    "# Perform descriptive analysis on continous data\n",
    "descriptive_df = mphd.continous_data.descriptive_analysis(df)"
   ]
  },
  {
   "cell_type": "code",
   "execution_count": 3,
   "id": "4444e282-270c-4818-b398-8d023e77c799",
   "metadata": {},
   "outputs": [
    {
     "name": "stdout",
     "output_type": "stream",
     "text": [
      "Descriptive Analysis for independent variables:\n",
      "Descriptive Analysis on pared\n",
      "+-------------------------+----------+-----------------+-------------+-------+------------+\n",
      "|          pared          | unlikely | somewhat_likely | very_likely |  All  | percentage |\n",
      "+-------------------------+----------+-----------------+-------------+-------+------------+\n",
      "|  no_tertiary_education  |  200.0   |      110.0      |    27.0     | 337.0 |   84.25    |\n",
      "| with_tertiary_education |   20.0   |      30.0       |    13.0     | 63.0  |   15.75    |\n",
      "|           All           |  220.0   |      140.0      |    40.0     | 400.0 |   100.0    |\n",
      "+-------------------------+----------+-----------------+-------------+-------+------------+\n",
      "Chi2 test between pared and apply have chi2 statistics value = 19.21 and p_value of 0.00\n",
      "----------------------------------------------------------------\n",
      "Descriptive Analysis on public\n",
      "+---------+----------+-----------------+-------------+-------+------------+\n",
      "| public  | unlikely | somewhat_likely | very_likely |  All  | percentage |\n",
      "+---------+----------+-----------------+-------------+-------+------------+\n",
      "| private |  189.0   |      124.0      |    30.0     | 343.0 |   85.75    |\n",
      "| public  |   31.0   |      16.0       |    10.0     | 57.0  |   14.25    |\n",
      "|   All   |  220.0   |      140.0      |    40.0     | 400.0 |   100.0    |\n",
      "+---------+----------+-----------------+-------------+-------+------------+\n",
      "Chi2 test between public and apply have chi2 statistics value = 4.70 and p_value of 0.10\n",
      "----------------------------------------------------------------\n",
      "Descriptive Analysis for dependent variables:\n",
      "+-----------------+-------+------------+\n",
      "|      apply      | count | percentage |\n",
      "+-----------------+-------+------------+\n",
      "|    unlikely     | 220.0 |    55.0    |\n",
      "| somewhat_likely | 140.0 |    35.0    |\n",
      "|   very_likely   | 40.0  |    10.0    |\n",
      "|       All       | 400.0 |   100.0    |\n",
      "+-----------------+-------+------------+\n"
     ]
    }
   ],
   "source": [
    "# Perform the descriptive statistics \n",
    "# Conduct hypothesis testing\n",
    "chi2_positive_df, chi2_negative_df = mphd.categorical_data.categorical_descriptive_analysis(df, \n",
    "                                                                                            independent_variables = [\"pared\", \"public\"], \n",
    "                                                                                            dependent_variables = \"apply\")"
   ]
  },
  {
   "cell_type": "code",
   "execution_count": 4,
   "id": "9c31eddb-21a2-4a07-88dc-fb85b209aae1",
   "metadata": {},
   "outputs": [
    {
     "name": "stdout",
     "output_type": "stream",
     "text": [
      "                          MNLogit Regression Results                          \n",
      "==============================================================================\n",
      "Dep. Variable:                  apply   No. Observations:                  400\n",
      "Model:                        MNLogit   Df Residuals:                      392\n",
      "Method:                           MLE   Df Model:                            6\n",
      "Date:                Sun, 21 Apr 2024   Pseudo R-squ.:                 0.03671\n",
      "Time:                        00:10:06   Log-Likelihood:                -357.00\n",
      "converged:                       True   LL-Null:                       -370.60\n",
      "Covariance Type:            nonrobust   LLR p-value:                 0.0001322\n",
      "==============================================================================\n",
      "   apply=1       coef    std err          z      P>|z|      [0.025      0.975]\n",
      "------------------------------------------------------------------------------\n",
      "const         -1.8790      0.864     -2.175      0.030      -3.572      -0.186\n",
      "pared          0.9516      0.317      3.001      0.003       0.330       1.573\n",
      "public        -0.4188      0.343     -1.220      0.222      -1.092       0.254\n",
      "gpa            0.4488      0.290      1.546      0.122      -0.120       1.018\n",
      "------------------------------------------------------------------------------\n",
      "   apply=2       coef    std err          z      P>|z|      [0.025      0.975]\n",
      "------------------------------------------------------------------------------\n",
      "const         -4.8478      1.449     -3.346      0.001      -7.688      -2.008\n",
      "pared          1.3742      0.422      3.255      0.001       0.547       2.202\n",
      "public         0.3601      0.443      0.812      0.417      -0.509       1.229\n",
      "gpa            0.9240      0.474      1.949      0.051      -0.005       1.853\n",
      "==============================================================================\n"
     ]
    }
   ],
   "source": [
    "# Generate independent variation list and formula\n",
    "independent_variable_list = mphd.regression.iterate_independent_variables(independent_variables = grad.columns[0:3],\n",
    "                                                                          dependent_variables = grad.columns[3])\n",
    "independent_variable_columns_variation = independent_variable_list[0]\n",
    "\n",
    "# run ordinal logistic regression with multiple predictors ('pared', 'public', 'gpa')\n",
    "model_list = [mphd.regression.multinominal_logistic_regression(grad, x = independent_variable, y = grad.columns[3])\n",
    "              for independent_variable in independent_variable_columns_variation]\n",
    "\n",
    "# Generate summary for all independent that fitted into the model\n",
    "print(model_list[-1].summary())"
   ]
  },
  {
   "cell_type": "code",
   "execution_count": 6,
   "id": "83b351a8-3c43-4ec4-8c23-b47dd8775d51",
   "metadata": {},
   "outputs": [
    {
     "data": {
      "text/html": [
       "<div>\n",
       "<style scoped>\n",
       "    .dataframe tbody tr th:only-of-type {\n",
       "        vertical-align: middle;\n",
       "    }\n",
       "\n",
       "    .dataframe tbody tr th {\n",
       "        vertical-align: top;\n",
       "    }\n",
       "\n",
       "    .dataframe thead th {\n",
       "        text-align: right;\n",
       "    }\n",
       "</style>\n",
       "<table border=\"1\" class=\"dataframe\">\n",
       "  <thead>\n",
       "    <tr style=\"text-align: right;\">\n",
       "      <th></th>\n",
       "      <th></th>\n",
       "      <th>lower</th>\n",
       "      <th>upper</th>\n",
       "    </tr>\n",
       "    <tr>\n",
       "      <th>apply</th>\n",
       "      <th></th>\n",
       "      <th></th>\n",
       "      <th></th>\n",
       "    </tr>\n",
       "  </thead>\n",
       "  <tbody>\n",
       "    <tr>\n",
       "      <th rowspan=\"4\" valign=\"top\">1</th>\n",
       "      <th>const</th>\n",
       "      <td>-3.571949</td>\n",
       "      <td>-0.185971</td>\n",
       "    </tr>\n",
       "    <tr>\n",
       "      <th>pared</th>\n",
       "      <td>0.330216</td>\n",
       "      <td>1.573078</td>\n",
       "    </tr>\n",
       "    <tr>\n",
       "      <th>public</th>\n",
       "      <td>-1.091663</td>\n",
       "      <td>0.254026</td>\n",
       "    </tr>\n",
       "    <tr>\n",
       "      <th>gpa</th>\n",
       "      <td>-0.120042</td>\n",
       "      <td>1.017544</td>\n",
       "    </tr>\n",
       "    <tr>\n",
       "      <th rowspan=\"4\" valign=\"top\">2</th>\n",
       "      <th>const</th>\n",
       "      <td>-7.687800</td>\n",
       "      <td>-2.007735</td>\n",
       "    </tr>\n",
       "    <tr>\n",
       "      <th>pared</th>\n",
       "      <td>0.546720</td>\n",
       "      <td>2.201586</td>\n",
       "    </tr>\n",
       "    <tr>\n",
       "      <th>public</th>\n",
       "      <td>-0.509115</td>\n",
       "      <td>1.229240</td>\n",
       "    </tr>\n",
       "    <tr>\n",
       "      <th>gpa</th>\n",
       "      <td>-0.005320</td>\n",
       "      <td>1.853399</td>\n",
       "    </tr>\n",
       "  </tbody>\n",
       "</table>\n",
       "</div>"
      ],
      "text/plain": [
       "                 lower     upper\n",
       "apply                           \n",
       "1     const  -3.571949 -0.185971\n",
       "      pared   0.330216  1.573078\n",
       "      public -1.091663  0.254026\n",
       "      gpa    -0.120042  1.017544\n",
       "2     const  -7.687800 -2.007735\n",
       "      pared   0.546720  2.201586\n",
       "      public -0.509115  1.229240\n",
       "      gpa    -0.005320  1.853399"
      ]
     },
     "execution_count": 6,
     "metadata": {},
     "output_type": "execute_result"
    }
   ],
   "source": [
    "# Generate odds ratio (95%CI)\n",
    "model_list[-1].conf_int()"
   ]
  },
  {
   "cell_type": "code",
   "execution_count": null,
   "id": "9b98f2e3-6a1a-4900-8996-474d74e45f8b",
   "metadata": {},
   "outputs": [],
   "source": [
    "# Generate predicted probabilities for each observation\n",
    "import numpy as np\n",
    "pred_choice = model_list[-1].model.predict(model_list[-1].params, exog=grad[['pared', 'public', 'gpa']]).argmax(1)\n",
    "print((np.asarray(grad.loc[:,\"apply\"].values) == pred_choice).mean())"
   ]
  },
  {
   "cell_type": "code",
   "execution_count": null,
   "id": "7c224432-1785-4d9d-a17b-0497cdbbb86b",
   "metadata": {},
   "outputs": [],
   "source": [
    "# Calculate cumulative probabilities\n",
    "model_list[-1].cdf(x)"
   ]
  },
  {
   "cell_type": "code",
   "execution_count": null,
   "id": "fd13dc6d-dd03-4250-907c-8dc940c12ebc",
   "metadata": {},
   "outputs": [],
   "source": [
    "# Calculate the likelihood ratio test \n",
    "model_list[-1].llr"
   ]
  },
  {
   "cell_type": "code",
   "execution_count": null,
   "id": "905a960d-e652-49a0-a2a4-b7304c3403bc",
   "metadata": {},
   "outputs": [],
   "source": [
    "# Perform score test "
   ]
  },
  {
   "cell_type": "code",
   "execution_count": null,
   "id": "a00918e8-b03a-4aa6-8e77-ece468cf3dd6",
   "metadata": {},
   "outputs": [],
   "source": []
  },
  {
   "cell_type": "markdown",
   "id": "708b3168-f338-4d19-b538-74a93c02b39b",
   "metadata": {},
   "source": []
  },
  {
   "cell_type": "code",
   "execution_count": null,
   "id": "ade27441-09bd-46ef-8f7b-a12836e97ae2",
   "metadata": {
    "scrolled": true
   },
   "outputs": [],
   "source": []
  },
  {
   "cell_type": "code",
   "execution_count": null,
   "id": "dfae63f7-e8e0-4943-a957-458e319e56d1",
   "metadata": {},
   "outputs": [],
   "source": [
    "\n"
   ]
  },
  {
   "cell_type": "code",
   "execution_count": null,
   "id": "a40f9c54-7f57-4dee-841d-4e61524195a2",
   "metadata": {
    "scrolled": true
   },
   "outputs": [],
   "source": []
  },
  {
   "cell_type": "code",
   "execution_count": null,
   "id": "ca994c42-7452-4c43-98d4-c28d25a5b5b1",
   "metadata": {},
   "outputs": [],
   "source": [
    "\n",
    "\n"
   ]
  },
  {
   "cell_type": "code",
   "execution_count": null,
   "id": "7e85ecf6-c80b-4c03-af30-75dbc60fe621",
   "metadata": {},
   "outputs": [],
   "source": []
  }
 ],
 "metadata": {
  "kernelspec": {
   "display_name": "Python 3 (ipykernel)",
   "language": "python",
   "name": "python3"
  },
  "language_info": {
   "codemirror_mode": {
    "name": "ipython",
    "version": 3
   },
   "file_extension": ".py",
   "mimetype": "text/x-python",
   "name": "python",
   "nbconvert_exporter": "python",
   "pygments_lexer": "ipython3",
   "version": "3.12.3"
  }
 },
 "nbformat": 4,
 "nbformat_minor": 5
}
