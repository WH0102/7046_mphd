{
 "cells": [
  {
   "cell_type": "markdown",
   "metadata": {},
   "source": [
    "# MQB7046 MODELLING PUBLIC HEALTH DATA\n",
    "## ASSIGNMENT 1\n",
    "\n",
    "1. Please complete your assignment and submit by 24 March 2024 (Sunday) 5pm.\n",
    "2. Submit your notebook (.ipynb) in the UM spectrum. \n",
    "3. You can work either work independently or in a group of two. \n"
   ]
  },
  {
   "cell_type": "markdown",
   "metadata": {},
   "source": [
    "### Exercise 1\n",
    "* Create two number variables to store a patients clinical measurements\n",
    "    * Height was 1.82 m\n",
    "    * Weight was 88.2 kg\n",
    "* Calculate the BMI\n",
    "* Use the round() function to round of the result to 2 decimals\n",
    "    * If needed use help(round) to learn how to use this function\n",
    "* Print the BMI and consider if the patient is obese."
   ]
  },
  {
   "cell_type": "code",
   "execution_count": null,
   "metadata": {},
   "outputs": [],
   "source": [
    "\n"
   ]
  },
  {
   "cell_type": "markdown",
   "metadata": {},
   "source": [
    "### Exercise 2\n",
    "* Using the build in string function to replace __z__ with __l__ and __b__ with __e__ in the string: _\"you arb doing bxtrbmbzy wbzz\"_\n",
    "* Finally apply a function to capitalise the sentence"
   ]
  },
  {
   "cell_type": "code",
   "execution_count": null,
   "metadata": {},
   "outputs": [],
   "source": [
    "\n"
   ]
  },
  {
   "cell_type": "markdown",
   "metadata": {},
   "source": [
    "### Exercise 3\n",
    "* Your task is to create a Python program to convert Celsius temperatures to Fahrenheit. You can use a mixture of functions, for example, map() or lambda to achieve the desired result. You can perform the following steps.\n",
    "  * Define a named function called _\"celsius_to_fahrenheit\"_ that takes a Celsius temperature as input and returns the equivalent temperature in Fahenheit.\n",
    "  * Define a list named _\"celsius\"_ containing temperature values in Celcius.\n",
    "  * Use the map() function along with the named function _\"celsius_to_fahrenheit\"_ to convert each Celsius temperature to Fahrenheit.\n",
    "  * Store the converted temperatures in a new list named  _\"fahrenheit\"_.\n",
    "  * \n",
    "Print both the original Celsius temperatures and the converted Fahrenheit temperatures."
   ]
  },
  {
   "cell_type": "code",
   "execution_count": null,
   "metadata": {},
   "outputs": [],
   "source": [
    "\n"
   ]
  },
  {
   "cell_type": "markdown",
   "metadata": {},
   "source": [
    "### Exercise 4\n",
    "* Using the input function write a program that asks for a patient's weight in kg.\n",
    "* Divide the weight with an appropriate factor to get the weight in pounds, and round to 1 decimal.\n",
    "* Print out the string \"The patient weight in pounds is:\" followed by the weight in pounds.\n",
    "* Use the functions int() and str() to make sure the data types are correct for what you want the code to do."
   ]
  },
  {
   "cell_type": "code",
   "execution_count": null,
   "metadata": {},
   "outputs": [],
   "source": [
    "\n"
   ]
  },
  {
   "cell_type": "markdown",
   "metadata": {},
   "source": [
    "### Exercise 5"
   ]
  },
  {
   "cell_type": "markdown",
   "metadata": {},
   "source": [
    "* [This page describes how to calculate the mean arterial pressure (MAP)](https://www.nursingcenter.com/ncblog/december-2011/calculating-the-map)\n",
    "* Use this info to calculate the MAP of the patient whose blood pressure is as follows: SBP=120, DBP=80\n",
    "* Print three statments:\n",
    "    * One presenting the systolic and diastolic blood presure\n",
    "    * One presenting the calculated MAP\n",
    "    * And one stating _\"MAP lower than recommended: \"_ together with a boolean testing this using the threshold of the linked page. "
   ]
  },
  {
   "cell_type": "code",
   "execution_count": null,
   "metadata": {},
   "outputs": [],
   "source": [
    "\n"
   ]
  },
  {
   "cell_type": "markdown",
   "metadata": {},
   "source": [
    "### Exercise 6\n",
    "* Create a dictionary of lists for the following data. A patient can have 1 to 5 heart rate measurements:\n",
    "\n",
    "| patid | HR1 | HR2 | HR3 | HR4 | HR5 |\n",
    "| ----- | --- | ----| ----| ----| ----|\n",
    "| 1001| 95 | 123 | 110 | 90 | 100 | \n",
    "| 1002 | 110 | 150 | 160 | 87 | 99 |\n",
    "| 1003 | 120 | 120 | 110 | 200 | 150 | 140 |\n",
    "\n",
    "\n",
    "* Print the full dictionary\n",
    "* Print all the patients in the dictionary\n",
    "* Print all measurements for patient 1003\n",
    "* Delete all measurements for patient 1001\n",
    "* Print the full dictionary after deletion."
   ]
  },
  {
   "cell_type": "code",
   "execution_count": null,
   "metadata": {},
   "outputs": [],
   "source": [
    "\n"
   ]
  },
  {
   "cell_type": "markdown",
   "metadata": {},
   "source": [
    "### Exercise 7\n",
    "\n",
    "Write a Python program that prompts the user to enter 5 numbers one by one. Calculate and print the average of these 5 numbers.\n",
    "You are required to:\n",
    "1. Use a while loop to input numbers and calculate the total.\n",
    "2. Ensure that the program handles invalid input gracefully, displaying an error message and prompting the user to enter a valid number.\n",
    "3. Finally, calculate the average of the entered numbers and print it with two decimal places."
   ]
  },
  {
   "cell_type": "code",
   "execution_count": null,
   "metadata": {},
   "outputs": [],
   "source": []
  },
  {
   "cell_type": "markdown",
   "metadata": {},
   "source": [
    "### Exercise 8\n",
    "\n",
    "You are tasked with creating a Python program to calculate the gross salary per week for employees in a factory. The factory policy dictates that employees receive 1.5 times their hourly rate for any hours worked beyond 40 hours per week. Your program should prompt the user to enter the number of hours worked and the hourly rate for an employee. The program should then calculate and display the gross salary per week based on the input provided.\n",
    "\n",
    "Calculate the gross salary per week for Employee X if he works 55 hours with an hourly rate of 20."
   ]
  },
  {
   "cell_type": "code",
   "execution_count": null,
   "metadata": {},
   "outputs": [],
   "source": []
  },
  {
   "cell_type": "markdown",
   "metadata": {},
   "source": [
    "### Exercise 9\n",
    "\n",
    "* You are building a calorie tracker application. Write a Python program to calculate the total calories burned by a group of individuals during a workout session. The calorie burn is estimated based on the duration of the workout and the type of activity. Use lambda functions and conditionals to calculate the calorie burn for each individual.\n",
    "  * Define a list of tuples where each tuple contains the name of the individual, the duration of the workout (in minutes), and the type of activity (e.g., running, cycling, swimming).\n",
    "  * The following are the data from 5 individuals:\n",
    "    * (\"Ali\", 30, \"running\"),\n",
    "    * (\"Ah kau\", 45, \"cycling\"),\n",
    "    * (\"Samyob\", 60, \"swimming\"),\n",
    "    * (\"Ahmad\", 25, \"swimming\"),\n",
    "    * (\"Chin Hai\", 40, \"running\")\n",
    "  * Use any functions to calculate the calorie burn for each individual based on the following estimate:\n",
    "    * Running: 700 calories per 60 minutes\n",
    "    * Cycling: 650 calories per 60 minutes\n",
    "    * Swimming: 575 calories per 60 minutes\n",
    "  * Calculate and print the total calories burned by each individual."
   ]
  },
  {
   "cell_type": "code",
   "execution_count": null,
   "metadata": {},
   "outputs": [],
   "source": []
  },
  {
   "cell_type": "markdown",
   "metadata": {},
   "source": [
    "### Exercise 10\n",
    "\n",
    "* You are tasked with creating a simple Python program to calculate the total calorie intake for a day based on the user's consumption of different food items. Create the program based on the following instructions:\n",
    "\n",
    "1. Define a dictionary named food_items to store various food items as keys and their respective calorie values per serving as values. Use the following food items and their calorie values per serving:\n",
    "    - \"banana\": 95\n",
    "    - \"yogurt\": 100\n",
    "    - \"salad\": 130\n",
    "    - \"chicken breast\": 165\n",
    "    - \"rice\": 112\n",
    "    - \"curry fish\": 221\n",
    "    - \"stirfried kailan\": 50\n",
    "2. Prompt the user to input the number of servings consumed for each food item.\n",
    "3. Calculate the total calorie intake for the day by multiplying the servings of each food item with its respective calorie value per serving and summing up the total calories. Print the total calorie intake for the day. Use the provided food items and their calorie values for your calculations.\n",
    "\n"
   ]
  },
  {
   "cell_type": "code",
   "execution_count": null,
   "metadata": {},
   "outputs": [],
   "source": [
    "\n"
   ]
  }
 ],
 "metadata": {
  "kernelspec": {
   "display_name": "Python 3 (ipykernel)",
   "language": "python",
   "name": "python3"
  },
  "language_info": {
   "codemirror_mode": {
    "name": "ipython",
    "version": 3
   },
   "file_extension": ".py",
   "mimetype": "text/x-python",
   "name": "python",
   "nbconvert_exporter": "python",
   "pygments_lexer": "ipython3",
   "version": "3.11.7"
  }
 },
 "nbformat": 4,
 "nbformat_minor": 4
}
